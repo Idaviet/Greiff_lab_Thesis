{
  "cells": [
    {
      "cell_type": "markdown",
      "id": "52b3fc0e",
      "metadata": {},
      "source": [
        "Calculate and compare RMSD values for all CDRH3s in reduction clusters and SPACE2 structural configuration clusters "
      ]
    },
    {
      "cell_type": "markdown",
      "id": "ee559b76",
      "metadata": {
        "id": "ee559b76"
      },
      "source": [
        "## Imports and setups"
      ]
    },
    {
      "cell_type": "markdown",
      "id": "06cd548a",
      "metadata": {
        "id": "06cd548a"
      },
      "source": [
        "Substitute variables with appropriate file paths/selections"
      ]
    },
    {
      "cell_type": "code",
      "execution_count": null,
      "id": "b14ad246",
      "metadata": {
        "id": "b14ad246"
      },
      "outputs": [],
      "source": [
        "import sys\n",
        "sys.path.append('/Users/isaacdaviet/Desktop/thesis/python_versions')\n",
        "# replace with directory containing the .py calculation files below\n",
        "import SPACE2_analysis as sp2\n",
        "import pdb_extraction as pdb\n",
        "import pandas as pd\n",
        "import os\n",
        "import matplotlib.pyplot as plt\n",
        "import seaborn as sns\n",
        "import numpy as np\n",
        "from IPython.display import display, clear_output\n",
        "import time\n",
        "from Bio.SVDSuperimposer import SVDSuperimposer\n",
        "from Bio.PDB import PDBParser\n",
        "import RMSD_calcs as rmsd\n",
        "\n",
        "# python_files_folder = '/Users/isaacdaviet/Desktop/thesis/python_versions' # replace with directory containing the .py calculation files below\n",
        "# import sys\n",
        "# sys.path.append(python_files_folder)\n",
        "# import importlib\n",
        "# import RMSD_calcs as rmsd\n",
        "\n",
        "# # Reload the module\n",
        "# importlib.reload(rmsd)"
      ]
    },
    {
      "cell_type": "markdown",
      "id": "98316dae",
      "metadata": {
        "id": "98316dae"
      },
      "source": [
        "## Calculate Average RMSD for dataframe containing entire dataset + ISEQ column"
      ]
    },
    {
      "cell_type": "markdown",
      "id": "f19ee0c6",
      "metadata": {},
      "source": [
        "Can filter for binder/non binder or any other column included in the dataframe, as long as the iseq column is there. Generates updating graph tracking how the RMSD averages change over time. Not essential, can skip to next section to generate simplified distribution graph"
      ]
    },
    {
      "cell_type": "code",
      "execution_count": null,
      "id": "23cc17c0",
      "metadata": {
        "id": "23cc17c0",
        "outputId": "2d5c981a-6164-43bb-9d38-ca6f786d8c84"
      },
      "outputs": [],
      "source": [
        "### Input Folders\n",
        "\n",
        "igfold_folder = '/Users/isaacdaviet/Desktop/mason_igfold_models/mason_igfold_models/igfold_outfile'\n",
        "# Folder containing ALL PDB files analyzed. \n",
        "\n",
        "iseq_incl_file = '/Users/isaacdaviet/Desktop/results/SPACE2_analysis/PCA_manual_clusters/SPACE2_cluster_replotting/mason_pca-space2_superclusters.csv'\n",
        "# Cluster file containing individual iseq #s to be analyzed. Exampled given uses PDB files containing only positions in CDRH3\n",
        "\n",
        "igfold_pdb_file_name_format = '/Users/isaacdaviet/Desktop/mason_igfold_models/mason_igfold_models/igfold_CDRH3_pdbs/mHER_H3_LABEL_unique_fv_ISEQ_igfoldCDRH3_ONLY.pdb'\n",
        "# File path format using 'ISEQ' as string to be replaced by given ISEQ # \n",
        "\n",
        "save_folder = '/Users/isaacdaviet/Desktop/results/SPACE2_analysis/Mason_RMSD_stats'\n",
        "\n",
        "project = 'Mason'\n",
        "\n",
        "\n",
        "### Dataframe Filters\n",
        "#### first level filter to remove any inconvenient cells\n",
        "prefilter_column = 'n_PCs'\n",
        "contains = False\n",
        "prefilter_value = None\n",
        "\n",
        "#### Second level filter, used to specify which label to analyze\n",
        "column = 'Labels' # Set to None if wish to test all seqs or 'Labels' to analyze binders or non-binders only\n",
        "column_filter = 'Non Binder' # Set to 'Binder' or 'Non Binder' to EXCLUDE a specific label \n",
        "\n",
        "### Number of sequences to sample (recommend setting pc_df to 1 and using # of binder sequences in dataet for both binders and non-binder)\n",
        "n_seq = 8955 # exact number of randomized CDRH3's to use (default in function is 'all' to analyze all sequences)\n",
        "pc_df= 1 # percentage of resulting df to use (default in function is 1 or 100%)\n",
        "\n",
        "n_test = 3 # number of repeats to conduct\n",
        "\n",
        "\n",
        "\n",
        "\n",
        "iseq_df = pd.read_csv(iseq_incl_file)\n",
        "if prefilter_column is not None:\n",
        "    iseq_df = iseq_df[iseq_df[prefilter_column] == prefilter_value] if contains == True else iseq_df[iseq_df[prefilter_column] != prefilter_value] #pre filter data\n",
        "    cont_ext = 'is' if contains == True else 'isnot'\n",
        "    ### Pre filters to explore: specific UMAP reductions/clusters, maybe look at the best graph for each metric. Also look at each metric separately?\n",
        "\n",
        "all_rmsd_calcs, all_rmsd_means, all_rmsd_medians = [],[],[]\n",
        "\n",
        "for i in range (1, n_test+1):\n",
        "\n",
        "\n",
        "    save_final_graph_file = os.path.join(save_folder, f'{project}_RMSD-stats_{column_filter}_{column}_{pc_df*100}PC-of-{n_seq}Seqs-{prefilter_column}{cont_ext}{prefilter_value}_test{i}.png') if save_folder is not None else None\n",
        "\n",
        "    rmsd_calcs, rmsd_means, rmsd_medians, n_sequences = rmsd.calculate_avg_rmsd_of_dataset(iseq_df, column, column_filter, igfold_pdb_file_name_format, title, n_sequences = n_seq, pc_selected_seqs = pc_df, save_final_graph_file = save_final_graph_file, show_updating_graph = 'n')\n",
        "\n",
        "    all_rmsd_calcs.extend(rmsd_calcs)\n",
        "    all_rmsd_means.extend(rmsd_means)\n",
        "    all_rmsd_medians.extend(rmsd_medians)\n",
        "\n",
        "    all_max_rmsd = round(max(all_rmsd_calcs), 4)\n",
        "    all_min_rmsd = round(min(all_rmsd_calcs), 4)\n",
        "    final_rmsd_avg = round(np.mean(all_rmsd_means), 4)\n",
        "    final_rmsd_median = round(np.median(all_rmsd_medians), 4)\n",
        "    pc_mean_to_median = round((min([final_rmsd_avg, final_rmsd_median]) / max([final_rmsd_avg, final_rmsd_median])) * 100, 2)\n",
        "\n",
        "\n",
        "string_to_save = f'RMSD analysis of {project} {column_filter} {column} at {pc_df*100}% of {n_seq} Seqs\\nPrefilter: {prefilter_column}{cont_ext}{prefilter_value}\\n\\tMaximum RMSD: {all_max_rmsd}\\n\\tMinimum RMSD: {all_min_rmsd} \\n\\tAverage RMSD: {final_rmsd_avg}\\n\\tMedian RMSD: {final_rmsd_median}\\n\\tMeans/Median Ratio: {pc_mean_to_median}%'\n",
        "\n",
        "print(string_to_save)\n",
        "\n",
        "\n",
        "if save_folder is not None:\n",
        "\n",
        "    string_file = os.path.join(save_folder, f'SUMMARY-{project}_RMSD-stats_{column}_{column_filter}_{pc_df*100}PC-of-{n_seq}Seqs-PreFilt{prefilter_column}{cont_ext}{prefilter_value}.txt')\n",
        "\n",
        "    with open(string_file, 'w') as file:\n",
        "        file.write(string_to_save)"
      ]
    },
    {
      "cell_type": "markdown",
      "id": "68f4cd2d",
      "metadata": {},
      "source": [
        "## Isolate the CDRH3 structures from full IgG PDB files, if necessary"
      ]
    },
    {
      "cell_type": "code",
      "execution_count": null,
      "id": "71ffdbe0",
      "metadata": {},
      "outputs": [],
      "source": [
        "pdb_folder = r'/Users/isaacdaviet/Desktop/mason_igfold_models/mason_igfold_models/igfold_outfile'\n",
        "# Folder containing original full IgG PDB files\n",
        "output_folder = r'/Users/isaacdaviet/Desktop/mason_igfold_models/mason_igfold_models/igfold_CDRH3_pdbs'\n",
        "\n",
        "rmsd.add_all_cdrh3_pdb_files(pdb_folder, output_folder)"
      ]
    },
    {
      "cell_type": "markdown",
      "id": "5f21078b",
      "metadata": {
        "id": "5f21078b"
      },
      "source": [
        "# RMSD Probabability distribution graphs."
      ]
    },
    {
      "cell_type": "markdown",
      "id": "da539f2e",
      "metadata": {},
      "source": [
        "Generate probability distribution graphs for simplified view of RMSD ranges contained in dataset.\n",
        "First section calculates RMSD values and displays values for each test conducted (n_test variable), second section generates the graph to allow for editing. Final plot displays means/medians/ranges for each curve."
      ]
    },
    {
      "cell_type": "code",
      "execution_count": null,
      "id": "a6e06b0e",
      "metadata": {
        "id": "a6e06b0e"
      },
      "outputs": [],
      "source": [
        "\n",
        "igfold_folder = '/Users/isaacdaviet/Desktop/mason_igfold_models/mason_igfold_models/igfold_outfile'\n",
        "# Folder Containing PDB files\n",
        "\n",
        "iseq_incl_file = '/Users/isaacdaviet/Desktop/results/SPACE2_analysis/UMAP_reductions/SPACE2_cluster_replotting/mason_umap-space2_superclusters.csv'\n",
        "# File containing 'iseq' column for use as replacement input\n",
        "\n",
        "igfold_pdb_file_name_format = '/Users/isaacdaviet/Desktop/mason_igfold_models/mason_igfold_models/igfold_CDRH3_pdbs/mHER_H3_LABEL_unique_fv_ISEQ_igfoldCDRH3_ONLY.pdb'\n",
        "# File path & name format using 'ISEQ' as string to be replaced by given ISEQ # \n",
        "\n",
        "save_folder = '/Users/isaacdaviet/Desktop/results/SPACE2_analysis/Mason_RMSD_stats'\n",
        "# save_folder = None\n",
        "\n",
        "project = 'Mason'\n",
        "\n",
        "### RMSD Calculation Parameters\n",
        "n_seq = 8955 # exact number of randomized CDRH3's to use (default in function is 'all' to analyze all sequences, recommend setting to total # of binders for all analysis at pc_df = 1)\n",
        "pc_df= 1 # percentage of resulting df to use (default in function is 1 or 100%)\n",
        "n_test = 3 # number of repeats to conduct (recommend 3 to confirm results)\n",
        "\n",
        "exclude_full_library_curve = False # Set to True to exclude full library (both binders & non binders) RMSD analysis\n",
        "\n",
        "\n",
        "\n",
        "\n",
        "### RMSD Calculations\n",
        "iseq_df = pd.read_csv(iseq_incl_file)\n",
        "\n",
        "# title = f'{project} RMSD Evolution - {pc_df*100}% of {n_seq} {column} Sequences Where {prefilter_column}{cont_ext}{prefilter_value}'\n",
        "\n",
        "\n",
        "b_rmsd_calcs =  []\n",
        "nb_rmsd_calcs = []\n",
        "fl_rmsd_calcs = []\n",
        "\n",
        "for i in range (1, n_test+1):\n",
        "\n",
        "\n",
        "    b_rmsds= rmsd.calculate_rmsd_averages(iseq_df, 'Labels', 'Binder', igfold_pdb_file_name_format, n_sequences = n_seq)\n",
        "\n",
        "    nb_rmsds= rmsd.calculate_rmsd_averages(iseq_df, 'Labels', 'Non Binder', igfold_pdb_file_name_format, n_sequences = n_seq)\n",
        "\n",
        "    b_rmsd_calcs.extend(b_rmsds)\n",
        "    nb_rmsd_calcs.extend(nb_rmsds)\n",
        "\n",
        "    if exclude_full_library_curve is not True:\n",
        "        fl_rmsds = rmsd.calculate_rmsd_averages(iseq_df, 'Labels', 'all', igfold_pdb_file_name_format, n_sequences = n_seq)\n",
        "        fl_rmsd_calcs.extend(fl_rmsds)\n",
        "\n"
      ]
    },
    {
      "cell_type": "code",
      "execution_count": null,
      "id": "d16195b4",
      "metadata": {
        "id": "d16195b4",
        "outputId": "f694bba3-d0f4-4e86-dc72-5c4b6a409022"
      },
      "outputs": [],
      "source": [
        "exclude_full_library_curve = True # True = exclude full libary curve from final graph\n",
        "\n",
        "\n",
        "\n",
        "### Graph Generation\n",
        "b_max_rmsd = round(max(b_rmsd_calcs), 2)\n",
        "b_min_rmsd = round(min(b_rmsd_calcs), 2)\n",
        "\n",
        "nb_max_rmsd = round(max(nb_rmsd_calcs), 2)\n",
        "nb_min_rmsd = round(min(nb_rmsd_calcs), 2)\n",
        "\n",
        "if exclude_full_library_curve is not True:\n",
        "    fl_max_rmsd = round(max(fl_rmsd_calcs), 2)\n",
        "    fl_min_rmsd = round(min(fl_rmsd_calcs), 2)\n",
        "\n",
        "sns.set(style= 'whitegrid')\n",
        "fig, ax = plt.subplots(figsize=(10,6))\n",
        "\n",
        "sns.kdeplot(nb_rmsd_calcs, ax =ax, label = f'Non Binders: {nb_min_rmsd}-{nb_max_rmsd}', color = 'blue')\n",
        "\n",
        "sns.kdeplot(b_rmsd_calcs, ax =ax, label = f'Binder: {b_min_rmsd}-{b_max_rmsd}', color = 'red')\n",
        "\n",
        "sns.kdeplot(fl_rmsd_calcs, ax =ax, label = f'Full Library: {fl_min_rmsd}-{fl_max_rmsd}', color = 'green') if exclude_full_library_curve is not True else None\n",
        "\n",
        "\n",
        "if exclude_full_library_curve is not True:\n",
        "    for data, color, label in zip([b_rmsd_calcs, nb_rmsd_calcs, fl_rmsd_calcs], ['red', 'blue', 'green'], ['Binder', 'Non Binder', 'All']):\n",
        "        ax.axvline(round(np.mean(data), 2), color=color, linestyle='--', label=f'{label.capitalize()} Avg: {np.mean(data):.4f}')\n",
        "        ax.axvline(round(np.median(data), 2), color=color, linestyle='-', label=f'{label.capitalize()} Median: {np.median(data):.4f}')\n",
        "\n",
        "else:\n",
        "    for data, color, label in zip([b_rmsd_calcs, nb_rmsd_calcs], ['red', 'blue'], ['Binder', 'Non Binder']):\n",
        "\n",
        "        ax.axvline(round(np.mean(data), 2), color=color, linestyle='--', label=f'{label.capitalize()} Avg: {np.mean(data):.4f}')\n",
        "        ax.axvline(round(np.median(data), 2), color=color, linestyle='-', label=f'{label.capitalize()} Median: {np.median(data):.4f}')\n",
        "\n",
        "# Customize plot\n",
        "ax.set_xlabel('RMSD')\n",
        "ax.set_ylabel('Density')\n",
        "ax.set_title('RMSD Distribution By Label')\n",
        "ax.legend()\n",
        "\n",
        "# Show plot\n",
        "plt.show()"
      ]
    },
    {
      "cell_type": "markdown",
      "id": "d8021eb8",
      "metadata": {
        "id": "d8021eb8"
      },
      "source": [
        "## UMAP multicluster RMSD calculation"
      ]
    },
    {
      "cell_type": "markdown",
      "id": "6a664616",
      "metadata": {
        "id": "6a664616"
      },
      "source": [
        "Calculate the RMSD of the SPACE2 clusters contained within a single UMAP reduction cluster, when applicable"
      ]
    },
    {
      "cell_type": "markdown",
      "id": "b4806664",
      "metadata": {
        "id": "b4806664"
      },
      "source": [
        "#### Generate RMSD Summary Sheet"
      ]
    },
    {
      "cell_type": "code",
      "execution_count": null,
      "id": "4595d670",
      "metadata": {
        "id": "4595d670"
      },
      "outputs": [],
      "source": [
        "igfold_folder = '/Users/isaacdaviet/Desktop/mason_igfold_models/mason_igfold_models/igfold_CDRH3_pdbs'\n",
        "# Folde containing PDB files to be analyzed\n",
        "\n",
        "all_summaries_xl = '/Users/isaacdaviet/Desktop/results/SPACE2_analysis/PCA_manual_clusters/Redo/pca_reduced_all_summaries.xlsx'\n",
        "# all_summaries file generated in previous sections\n",
        "\n",
        "reduction_type = 'PCA'\n",
        "\n",
        "rmsd.rmsds_summary_sheet(all_summaries_xl, igfold_folder, reduction_type)"
      ]
    },
    {
      "cell_type": "markdown",
      "id": "1d7ece33",
      "metadata": {
        "id": "1d7ece33"
      },
      "source": [
        "### Violin Plots of RMSD values"
      ]
    },
    {
      "cell_type": "markdown",
      "id": "1fb15d68",
      "metadata": {
        "id": "1fb15d68"
      },
      "source": [
        "Generates violin plots of calculated UMAP reduction RMSD values, generates the following plots:\n",
        "\n",
        "UMAP:\n",
        "\n",
        "    - x, y, labels_filter = 'n_Abs%', 'label', 'all'\n",
        "    - x, y, labels_filter = 'n_Abs%', 'metric', 'all'\n",
        "    - x, y, labels_filter = 'n_Abs%', 'label', 'Binder'\n",
        "    - x, y, labels_filter = 'n_Abs%', 'label', 'Non Binder'\n",
        "\n",
        "    - x, y, labels_filter = 'avg_rmsd', 'label', 'all'\n",
        "    - x, y, labels_filter = 'avg_rmsd', 'metric', 'all'\n",
        "    - x, y, labels_filter = 'avg_rmsd', 'label', 'Binder'\n",
        "    - x, y, labels_filter = 'avg_rmsd', 'label', 'Non Binder'\n",
        "\n",
        "    - x, y, labels_filter = '1_vs_2', 'label', 'all'\n",
        "    - x, y, labels_filter = '1_vs_2', 'metric', 'all'\n",
        "    - x, y, labels_filter = '1_vs_2', 'label', 'Binder'\n",
        "    - x, y, labels_filter = '1_vs_2', 'label', 'Non Binder'\n",
        "\n",
        "PCA:\n",
        "\n",
        "    - x, y, labels_filter = 'n_Abs%', 'label', 'all'\n",
        "    - x, y, labels_filter = '1_vs_2', 'label', 'all'\n",
        "    - x, y, labels_filter = 'avg_rmsd', 'label', 'all'\n",
        "    - x, y, labels_filter = 'avg_rmsd', 'n_SPACE2_clusters', 'all'\n",
        "    - x, y, labels_filter = 'avg_rmsd', 'n_SPACE2_clusters', 'Binder'\n",
        "    - x, y, labels_filter = 'avg_rmsd', 'n_SPACE2_clusters', 'Non Binder' \n",
        "\n",
        "NOTE: contains commented code to generate violin plots based on n_abs% following similar format as RMSD violin plots that can be uncommented if necessary o plots not generated in previous sections   "
      ]
    },
    {
      "cell_type": "markdown",
      "id": "41d0b2ce",
      "metadata": {
        "id": "41d0b2ce"
      },
      "source": [
        "####"
      ]
    },
    {
      "cell_type": "code",
      "execution_count": null,
      "id": "2954c292",
      "metadata": {
        "id": "2954c292"
      },
      "outputs": [],
      "source": [
        "### Files to import\n",
        "umap_all_summaries_file ='/Users/isaacdaviet/Desktop/results/SPACE2_analysis/UMAP_reductions/structural_clusters/umap_all_summaries.xlsx'\n",
        "umap_save_path = '/Users/isaacdaviet/Desktop/results/SPACE2_analysis/UMAP_reductions/structural_clusters/all_summaries graphs'\n",
        "\n",
        "pca_all_summaries_file = '/Users/isaacdaviet/Desktop/results/SPACE2_analysis/PCA_manual_clusters/Redo/pca_reduced_all_summaries.xlsx'\n",
        "pca_save_path = '/Users/isaacdaviet/Desktop/results/SPACE2_analysis/PCA_manual_clusters/Redo'\n",
        "\n",
        "reduction_type = 'PCA' # set to 'all', 'UMAP', or 'PCA' depending on which reduction type to analyze\n",
        "\n",
        "### Recommended plots to generate:\n",
        "#### format: [sheet in all_summaries file, reduction_type, labels_filter, x_axes, y_axes]\n",
        "#### After adding/removing any violin plots, be sure to update rmsd_dict dictionary\n",
        "\n",
        "##### UMAP Plots\n",
        "a = ['multi_cluster_rmsd', 'UMAP', 'all', 'label', 'avg_rmsd']\n",
        "b = ['multi_cluster_rmsd', 'UMAP', 'all', 'label', '1_vs_2']\n",
        "c = ['multi_cluster_rmsd', 'UMAP', 'all', 'metric', 'avg_rmsd']\n",
        "d = ['multi_cluster_rmsd', 'UMAP', 'Binder', 'metric', 'avg_rmsd']\n",
        "e = ['multi_cluster_rmsd', 'UMAP', 'Non Binder', 'metric', 'avg_rmsd']\n",
        "f =['multi_cluster_rmsd', 'UMAP', 'all', 'metric', '1_vs_2']\n",
        "g =['multi_cluster_rmsd', 'UMAP', 'Binder', 'metric', '1_vs_2']\n",
        "h =['multi_cluster_rmsd', 'UMAP', 'Non Binder', 'metric', '1_vs_2']\n",
        "\n",
        "##### PCA Plots\n",
        "i =['multi_cluster_rmsd', 'PCA', 'all', 'label', 'avg_rmsd']\n",
        "j =['multi_cluster_rmsd', 'PCA', 'all', 'n_SPACE2_clusters', 'avg_rmsd']\n",
        "k =['multi_cluster_rmsd', 'PCA', 'all', 'label', '1_vs_2']\n",
        "l =['multi_cluster_rmsd', 'PCA', 'Binder', 'n_SPACE2_clusters', 'avg_rmsd']\n",
        "m =['multi_cluster_rmsd', 'PCA', 'Non Binder', 'n_SPACE2_clusters', 'avg_rmsd']\n",
        "\n",
        "rmsd_dict = {'UMAP': [a,b,c,d,e,f,g,h], 'PCA': [i,j,k,l,m]} # Update if adding/removing plots to generate\n",
        "\n",
        "\n",
        "\n",
        "\n",
        "\n",
        "\n",
        "### PLot generation\n",
        "inner_plot_format = 'box'\n",
        "title_size = 9\n",
        "project_name = 'Mason'\n",
        "\n",
        "for key, items in rmsd_dict.items():\n",
        "    if key == reduction_type or reduction_type == 'all':\n",
        "        all_summaries_file = umap_all_summaries_file if key == 'UMAP' else pca_all_summaries_file\n",
        "\n",
        "        input_df = pd.read_excel(all_summaries_file, sheet_name='multi_cluster_rmsds')\n",
        "        save_path = umap_save_path if key == 'UMAP' else pca_save_path\n",
        "\n",
        "        for sheet, reduction_type, labels_filter, x, y in items:\n",
        "            ext = f'{labels_filter}s only' if labels_filter != 'all' else 'all points'\n",
        "\n",
        "            averages = True if y == 'avg_rmsd' else False\n",
        "\n",
        "            plt_title = f'Average RMSD of {reduction_type} Clusters Containing Multiple SPACE2 Clusters\\n{x} - {ext}' if y == True else f'RMSD of {y[0]} and {y[-1]} Largest SPACE2 Clusters Contained in Single {reduction_type} Cluster \\n {x} - {ext}'\n",
        "\n",
        "            file_name = f'{project_name}_{reduction_type}_RMSD-{y}_{x}_{labels_filter}.png'\n",
        "\n",
        "            data = input_df[input_df['label'] == labels_filter] if labels_filter != 'all' else input_df\n",
        "            labels_filter\n",
        "\n",
        "            if reduction_type != 'PCA':\n",
        "                data['metric'] = data['reduction_file'].apply(rmsd.get_metric)\n",
        "\n",
        "            rmsd.summaries_violin_plot(x, y, data, plt_title, file_name, title_size, save_path, inner_plot=inner_plot_format)\n",
        "\n",
        "\n",
        "\n",
        "##### Additional violin plots based on n_abs% values, not necessary if already done in previous sections. \n",
        "# n = ['all_summaries', 'UMAP', 'all', 'label', 'n_abs%']\n",
        "# o = ['all_summaries', 'UMAP', 'all', 'metric', 'n_abs%']\n",
        "# p = ['all_summaries', 'UMAP', 'Binder', 'metric', 'n_abs%']\n",
        "# q = ['all_summaries', 'UMAP', 'Non Binder', 'metric', 'n_abs%']\n",
        "\n",
        "# r = ['all_summaries', 'PCA', 'all', 'label', 'n_abs%']\n",
        "# s = ['all_summaries', 'PCA', 'all', 'component_1', 'n_abs%']\n",
        "# t = ['all_summaries', 'PCA', 'Binder', 'component_1', 'n_abs%']\n",
        "# u = ['all_summaries', 'PCA', 'Non Binder', 'component_1', 'n_abs%']\n",
        "# v = ['all_summaries', 'PCA', 'all', 'component_2', 'n_abs%']\n",
        "# w = ['all_summaries', 'PCA', 'Binder', 'component_2', 'n_abs%']\n",
        "# x = ['all_summaries', 'PCA', 'Non Binder', 'component_2', 'n_abs%']\n",
        "\n",
        "# n_abs_dict = {'UMAP': [n, o, p, q], 'PCA': [r, s, t, u, v, w, x]}\n",
        "\n",
        "# for key, items in n_abs_dict.items():\n",
        "#     if key == reduction_type or reduction_type == 'all':\n",
        "#         all_summaries_file = umap_all_summaries_file if key == 'UMAP' else pca_all_summaries_file\n",
        "\n",
        "#         input_df = pd.read_excel(all_summaries_file, sheet_name='all_summaries')\n",
        "#         save_path = umap_save_path if key == 'UMAP' else pca_save_path\n",
        "\n",
        "#         for sheet, reduction_type, labels_filter, x, y in items:\n",
        "\n",
        "#             ext = f'{labels_filter}s only' if labels_filter != 'all' else 'all points'\n",
        "\n",
        "#             plt_title = f'Percentages of {reduction_type} Cluster Contained Within Associated SPACE2 Clusters Separated\\n{x}' if labels_filter == 'all' else f'Percentages of {reduction_type} Cluster Contained Within Associated SPACE2 Clusters Separated\\n{x} - {ext}'\n",
        "\n",
        "#             file_name = f'{project_name}_{reduction_type}_nAbsPC-{y}_{x}_{labels_filter}.png'\n",
        "\n",
        "#             data = input_df[input_df['label'] == labels_filter] if labels_filter != 'all' else input_df\n",
        "#             labels_filter\n",
        "\n",
        "#             if reduction_type != 'PCA':\n",
        "#                 data['metric'] = data['reduction_file'].apply(rmsd.get_metric)\n",
        "\n",
        "#             rmsd.summaries_violin_plot(x, y, data, plt_title, file_name, title_size, save_path, inner_plot=inner_plot_format)\n"
      ]
    },
    {
      "cell_type": "code",
      "execution_count": null,
      "id": "323f2e91",
      "metadata": {},
      "outputs": [],
      "source": []
    }
  ],
  "metadata": {
    "colab": {
      "provenance": []
    },
    "kernelspec": {
      "display_name": "base",
      "language": "python",
      "name": "python3"
    },
    "language_info": {
      "codemirror_mode": {
        "name": "ipython",
        "version": 3
      },
      "file_extension": ".py",
      "mimetype": "text/x-python",
      "name": "python",
      "nbconvert_exporter": "python",
      "pygments_lexer": "ipython3",
      "version": "3.11.5"
    }
  },
  "nbformat": 4,
  "nbformat_minor": 5
}
