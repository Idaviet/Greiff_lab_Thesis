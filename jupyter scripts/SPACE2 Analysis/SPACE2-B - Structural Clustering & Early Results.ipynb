{
  "cells": [
    {
      "cell_type": "markdown",
      "id": "c7dd0bfb",
      "metadata": {},
      "source": [
        "Perform SPACE2 analysis of either manual PCA or dbscan UMAP clusters using cluster files generated in previous sections. Produces unique summary files for each reduction/cluster file containing SPACE2 results and basic summary and an 'all_summaries' file containing overviews and analysis of all previously mentioned summaries file within a given folder  "
      ]
    },
    {
      "cell_type": "markdown",
      "id": "ee559b76",
      "metadata": {
        "id": "ee559b76"
      },
      "source": [
        "## Imports and setups"
      ]
    },
    {
      "cell_type": "code",
      "execution_count": null,
      "id": "b14ad246",
      "metadata": {
        "id": "b14ad246"
      },
      "outputs": [],
      "source": [
        "import sys\n",
        "sys.path.append('/Users/isaacdaviet/Desktop/thesis/python_versions')\n",
        "# replace with directory containing the .py calculation files below\n",
        "import SPACE2_analysis as sp2\n",
        "import pandas as pd\n"
      ]
    },
    {
      "cell_type": "markdown",
      "id": "d8021eb8",
      "metadata": {
        "id": "d8021eb8"
      },
      "source": [
        "## Extract lists from csv file of unique cluster and cluster using SPACE2"
      ]
    },
    {
      "cell_type": "markdown",
      "id": "9e697208",
      "metadata": {},
      "source": [
        "Calculates SPACE2 structural configuration clusters and saves separate results csv and summary xl file "
      ]
    },
    {
      "cell_type": "markdown",
      "id": "b70866cb",
      "metadata": {
        "id": "b70866cb"
      },
      "source": [
        "### Single pdb_list file analysis"
      ]
    },
    {
      "cell_type": "code",
      "execution_count": null,
      "id": "e2ec6ed8",
      "metadata": {
        "id": "e2ec6ed8"
      },
      "outputs": [],
      "source": [
        "cluster_pdbs_file = r'/Users/isaacdaviet/Desktop/results/SPACE2_analysis/pdb_lists/correlation_DBsc_PDB/UMAP_Mason-correlation-3-25-0.0-1-2_DBsc-0.15-20_ClstrPDBs.csv'\n",
        "# Single reduction clusters with assigned pdb file\n",
        "\n",
        "clusters_to_analyze = ['high_Binder0']\n",
        "# Use 'all' to analyze all clusters in file, or specify specific cluster name to analyze\n",
        "\n",
        "output_file = r'/Users/isaacdaviet/Desktop/results/SPACE2_analysis/pdb_lists/test.xlsx'\n",
        "# Full output file path + name with .xlsx extension\n",
        "\n",
        "priorities_to_analyze = ['all']\n",
        "\n",
        "### SPACE2 parameters\n",
        "cdr_selection = ['CDRH3']\n",
        "chain_selection = ['fwH']\n",
        "rmsd_threshold = 1.25 # recommended default of 1.25 Angstrom\n",
        "algorithm = 'agglomerative' \n",
        "\n",
        "\n",
        "\n",
        "structural_df = sp2.SPACE2_clustering(cluster_pdbs_file, clusters_to_analyze, priorities_to_analyze, cdr_selection = cdr_selection, chain_selection=chain_selection, rmsd_threshold = 1.25, algorithm= algorithm)\n",
        "structural_df = sp2.SPACE2_summary(structural_df)\n",
        "\n",
        "sp2.save_SPACE2_results(structural_df, output_file = output_file,shorten_antibody_names = 'y')"
      ]
    },
    {
      "cell_type": "markdown",
      "id": "534f3e29",
      "metadata": {
        "id": "534f3e29"
      },
      "source": [
        "### Full folder analysis"
      ]
    },
    {
      "cell_type": "code",
      "execution_count": null,
      "id": "cf7ee8f2",
      "metadata": {
        "id": "cf7ee8f2"
      },
      "outputs": [],
      "source": [
        "cluster_pdbs_folder = r'/Users/isaacdaviet/Desktop/results/SPACE2_analysis/pdb_lists/correlation_DBsc_PDB'\n",
        "# Folder containing multiple reduction clusters with assigned pdb files \n",
        "\n",
        "output_folder = r'/Users/isaacdaviet/Desktop/results/SPACE2_analysis/structural_clusters/correlation'\n",
        "# Output folder to save results in\n",
        "\n",
        "### Cluster filters\n",
        "clusters_to_analyze = ['all'] # Do not change\n",
        "priorities_to_analyze = ['all']\n",
        "\n",
        "### SPACE2 parameters\n",
        "cdrs = ['CDRH3']\n",
        "chain = ['fwH']\n",
        "rmsd_threshold = 1.25 # recommended default of 1.25 Angstrom\n",
        "algorithm = 'agglomerative'\n",
        "n_jobs =1 # recommended default of 1\n",
        "\n",
        "shorten_structural_cluster_names = 'y' \n",
        "# parameter to simplify names of resulting files\n",
        "\n",
        "\n",
        "sp2.SPACE2_folder_analysis(cluster_pdbs_folder, output_folder, clusters_to_analyze, priorities_to_analyze, cdrs, chain, rmsd_threshold, algorithm, n_jobs, shorten_structural_cluster_names)"
      ]
    },
    {
      "cell_type": "markdown",
      "id": "fe3d3edf",
      "metadata": {
        "id": "fe3d3edf"
      },
      "source": [
        "### Multiple folder analysis"
      ]
    },
    {
      "cell_type": "markdown",
      "id": "acec0b3c",
      "metadata": {},
      "source": [
        "To iterate through multiple folders that follow a similar path and naming format, ie if distance metrics are kept in separate folders"
      ]
    },
    {
      "cell_type": "code",
      "execution_count": null,
      "id": "5fbb0fcd",
      "metadata": {
        "id": "5fbb0fcd"
      },
      "outputs": [],
      "source": [
        "### Input folders to analyze\n",
        "input_folder_format = r'/Users/isaacdaviet/Desktop/results/SPACE2_analysis/pdb_lists/IDMETRIC_DBsc_PDB'\n",
        "output_folder_format = r'/Users/isaacdaviet/Desktop/results/SPACE2_analysis/structural_clusters/IDMETRIC'\n",
        "what_to_replace_in_folder_format_strings = 'IDMETRIC'\n",
        "# string sequence in folder format strings that will be replaced as the below list is iterated through\n",
        "what_to_replace_it_with = ['correlation', 'cosine', 'euclidean', 'hamming', 'manhattan']\n",
        "# strings that the 'what_to_replace_in_folder_format_strings' string will be replaced with\n",
        "\n",
        "### Cluster Filters\n",
        "clusters_to_analyze = ['all'] # Please note that the function remove the priority level of a cluster frorm the pdb.csv column name, so do no include\n",
        "priorities_to_analyze = ['all']\n",
        "\n",
        "### SPACE2 parameters\n",
        "cdr_selection = ['CDRH3']\n",
        "chain_selection = ['fwH']\n",
        "rmsd_threshold = 1.25 # recommended default of 1.25 Angstrom\n",
        "algorithm = 'agglomerative'\n",
        "n_jobs =1 # recommended default of 1\n",
        "\n",
        "\n",
        "shorten_structural_cluster_names = 'y' \n",
        "# parameter to simplify names of resulting files\n",
        "\n",
        "\n",
        "sp2.space2_analyze_multiple_folders(what_to_replace_it_with,input_folder_format,output_folder_format,what_to_replace_in_folder_format_strings,clusters_to_analyze = clusters_to_analyze,priorities_to_analyze = priorities_to_analyze,cdr_selection = cdr_selection,chain_selection = chain_selection,rmsd_threshold = rmsd_threshold,algorithm = algorithm,n_jobs =n_jobs,shorten_structural_cluster_names = shorten_structural_cluster_names)"
      ]
    },
    {
      "cell_type": "markdown",
      "id": "9cbcf0e3",
      "metadata": {
        "id": "9cbcf0e3"
      },
      "source": [
        "## Editing summary sheets of resulting excel files"
      ]
    },
    {
      "cell_type": "markdown",
      "id": "4f1d16c6",
      "metadata": {},
      "source": [
        "Adds additional details to summary sheet generated in previous function. Only do if editing was not already included in save_SPACE2_results function"
      ]
    },
    {
      "cell_type": "markdown",
      "id": "1b3a13da",
      "metadata": {},
      "source": [
        "#### Single Summay File"
      ]
    },
    {
      "cell_type": "code",
      "execution_count": null,
      "id": "62ee8b02",
      "metadata": {
        "id": "62ee8b02"
      },
      "outputs": [],
      "source": [
        "xl_file = r'/Users/isaacdaviet/Desktop/results/test.xlsx'\n",
        "\n",
        "sp2.edit_xl_summary(xl_file)"
      ]
    },
    {
      "cell_type": "markdown",
      "id": "584c509f",
      "metadata": {},
      "source": [
        "#### Single Folder of Summary Files"
      ]
    },
    {
      "cell_type": "code",
      "execution_count": null,
      "id": "751fd407",
      "metadata": {
        "id": "751fd407"
      },
      "outputs": [],
      "source": [
        "folder = r'/Users/isaacdaviet/Desktop/results/SPACE2_analysis/structural_clusters/correlation'\n",
        "\n",
        "sp2.edit_xl_summary_folder(folder)"
      ]
    },
    {
      "cell_type": "markdown",
      "id": "466e453e",
      "metadata": {},
      "source": [
        "#### Multiple Folders to Iterate"
      ]
    },
    {
      "cell_type": "markdown",
      "id": "da8e6469",
      "metadata": {},
      "source": [
        "Similar formatting rules as above"
      ]
    },
    {
      "cell_type": "code",
      "execution_count": null,
      "id": "3a035f97",
      "metadata": {
        "id": "3a035f97"
      },
      "outputs": [],
      "source": [
        "folders_to_edit = ['correlation', 'cosine', 'euclidean', 'hamming', 'manhattan', ]\n",
        "\n",
        "format = r'/Users/isaacdaviet/Desktop/results/SPACE2_analysis/structural_clusters/IDMETRIC'\n",
        "\n",
        "replacement = 'IDMETRIC'\n",
        "\n",
        "for folder in folders_to_edit:\n",
        "    file = format.replace(replacement, folder)\n",
        "    sp2.edit_xl_summary_folder(file)\n",
        "    print(f'Finished edits to {folder} folder')"
      ]
    },
    {
      "cell_type": "markdown",
      "id": "8782eb08",
      "metadata": {
        "id": "8782eb08"
      },
      "source": [
        "## Create All Summaries excel file"
      ]
    },
    {
      "cell_type": "markdown",
      "id": "de00bf7b",
      "metadata": {},
      "source": [
        "Generates an 'all_summaries' file providing further cross reduction analysis through combination of all 'summary' files contained in given folder  "
      ]
    },
    {
      "cell_type": "markdown",
      "id": "312bda13",
      "metadata": {
        "id": "312bda13"
      },
      "source": [
        "### UMAP Clusters"
      ]
    },
    {
      "cell_type": "code",
      "execution_count": null,
      "id": "a4167a69",
      "metadata": {
        "id": "a4167a69"
      },
      "outputs": [],
      "source": [
        "structural_clusters_folder = r'/Users/isaacdaviet/Desktop/results/SPACE2_analysis/PCA_manual_clusters'\n",
        "pc_cutoffs_to_explore =[100, 90, 80, 60, 50, 40]\n",
        "# Percentage cutoffs of interest, recommend using [100, 90, 80, 60, 50, 40]\n",
        "\n",
        "sp2.create_all_summaries_xl(structural_clusters_folder)\n",
        "\n",
        "all_summaries_xl = f'{structural_clusters_folder}/all_summaries.xlsx'\n",
        "for cutoff in pc_cutoffs_to_explore:\n",
        "    all_overviews = sp2.all_summaries_overview(all_summaries_xl, pc_cutoff = cutoff)"
      ]
    },
    {
      "cell_type": "markdown",
      "id": "f65dfd87",
      "metadata": {
        "id": "f65dfd87"
      },
      "source": [
        "### PCA  manual clusters"
      ]
    },
    {
      "cell_type": "code",
      "execution_count": null,
      "id": "694eb4d9",
      "metadata": {
        "id": "694eb4d9"
      },
      "outputs": [],
      "source": [
        "python_files_folder = '/Users/isaacdaviet/Desktop/thesis/python_versions' # replace with directory containing the .py calculation files below\n",
        "import sys\n",
        "sys.path.append(python_files_folder)\n",
        "import importlib\n",
        "import SPACE2_analysis as sp2\n",
        "\n",
        "# Reload the module\n",
        "importlib.reload(sp2)\n",
        "\n",
        "sp2.create_pca_all_summaries('/Users/isaacdaviet/Desktop/results/SPACE2_analysis/PCA_manual_clusters/Redo/mason_PCA_manual_clusters_SPACE2_agglomerative_1-25_REDO_min.xlsx')"
      ]
    },
    {
      "cell_type": "markdown",
      "id": "0612c98a",
      "metadata": {
        "id": "0612c98a"
      },
      "source": [
        "## Violin Plots"
      ]
    },
    {
      "cell_type": "markdown",
      "id": "b9adf104",
      "metadata": {
        "id": "b9adf104"
      },
      "source": [
        "Generates violin plots using 'all_summaies.xlsx' file generated in previous section. Setting 'iterate_through_recommended_plots' to 'y' will generate the following plot combinations:\n",
        "\n",
        "For UMAP:\n",
        "\n",
        "    - x, y, labels_filter = 'n_abs%', 'label', 'all'\n",
        "    - x, y, labels_filter = 'n_abs%', 'metric', 'all'\n",
        "    - x, y, labels_filter = 'n_abs%', 'label', 'Binder'\n",
        "    - x, y, labels_filter = 'n_abs%', 'label', 'Non Binder'\n",
        "\n",
        "    - x, y, labels_filter = 'avg_rmsd', 'label', 'all'\n",
        "    - x, y, labels_filter = 'avg_rmsd', 'metric', 'all'\n",
        "    - x, y, labels_filter = 'avg_rmsd', 'label', 'Binder'\n",
        "    - x, y, labels_filter = 'avg_rmsd', 'label', 'Non Binder'\n",
        "\n",
        "    - x, y, labels_filter = '1_vs_2', 'label', 'all'\n",
        "    - x, y, labels_filter = '1_vs_2', 'metric', 'all'\n",
        "    - x, y, labels_filter = '1_vs_2', 'label', 'Binder'\n",
        "    - x, y, labels_filter = '1_vs_2', 'label', 'Non Binder'\n",
        "\n",
        "For PCA:\n",
        "\n",
        "    - x, y, labels_filter = 'n_abs%', 'label', 'all'\n",
        "    - x, y, labels_filter = '1_vs_2', 'label', 'all'\n",
        "    - x, y, labels_filter = 'avg_rmsd', 'label', 'all'\n",
        "    - x, y, labels_filter = 'avg_rmsd', 'n_SPACE2_clusters', 'all'\n",
        "    - x, y, labels_filter = 'avg_rmsd', 'n_SPACE2_clusters', 'Binder'\n",
        "    - x, y, labels_filter = 'avg_rmsd', 'n_SPACE2_clusters', 'Non Binder'    "
      ]
    },
    {
      "cell_type": "code",
      "execution_count": null,
      "id": "abb1cee0",
      "metadata": {
        "id": "abb1cee0",
        "outputId": "0b80275d-611f-4b8e-c787-f26c318d3408"
      },
      "outputs": [],
      "source": [
        "### Input File\n",
        "all_summaries_file ='/Users/isaacdaviet/Desktop/results/SPACE2_analysis/PCA_manual_clusters/Redo/pca_reduced_all_summaries.xlsx'\n",
        "save_path = '/Users/isaacdaviet/Desktop/results/SPACE2_analysis/PCA_manual_clusters/Redo/all_summaries_graphs'\n",
        "# Folder to save graphs to\n",
        "\n",
        "reduction_type = 'PCA'\n",
        "# Set to 'UMAP' or 'PCA'\n",
        "\n",
        "iterate_through_recommended_plots = 'y'\n",
        "\n",
        "\n",
        "### if not iterating through recommendations, input desired parameters to plot:\n",
        "labels_filter = 'all'\n",
        "x = 'label'\n",
        "y = 'n_abs%'\n",
        "\n",
        "\n",
        "### Plot Formatting\n",
        "plt_title = f'Percentage of {reduction_type} Cluster Contained in SPACE2 Clusters - Sorted by {x} & {labels_filter}'\n",
        "inner_plot_format = 'box'\n",
        "title_size = 9\n",
        "\n",
        "\n",
        "\n",
        "\n",
        "\n",
        "if iterate_through_recommended_plots != 'n':\n",
        "\n",
        "    plot_list = [['n_abs%', 'label', 'all'], ['n_abs%', 'metric', 'all'], ['n_abs%', 'label', 'Binder'], ['n_abs%', 'label', 'Non Binder'], ['avg_rmsd', 'label', 'all'], ['avg_rmsd', 'metric', 'all'], ['avg_rmsd', 'label', 'Binder'], ['avg_rmsd', 'label', 'Non Binder'], ['1_vs_2', 'label', 'all'], ['1_vs_2', 'metric', 'all'], ['1_vs_2', 'label', 'Binder'], ['1_vs_2', 'label', 'Non Binder']] if reduction_type == 'UMAP' else ['n_abs%', 'label', 'all'], ['1_vs_2', 'label', 'all'], ['avg_rmsd', 'label', 'all'],['avg_rmsd', 'n_SPACE2_clusters', 'all'], ['avg_rmsd', 'n_SPACE2_clusters', 'Binder'], ['avg_rmsd', 'n_SPACE2_clusters', 'Non Binder']\n",
        "\n",
        "elif iterate_through_recommended_plots == 'n':\n",
        "    plot_list = [[x, y, labels_filter]]\n",
        "\n",
        "input_df = pd.read_excel(all_summaries_file, sheet_name='all_summaries')\n",
        "\n",
        "selected_columns = ['label', 'dimred_metric', 'n_abs%', 'total_antibodies'] if reduction_type == 'UMAP' else ['label', 'n_abs%', 'total_antibodies']\n",
        "\n",
        "all_df = input_df.loc[:, selected_columns]\n",
        "\n",
        "for param_list in plot_list:\n",
        "    x, y, filter = param_list[0], param_list[1], param_list[2]\n",
        "\n",
        "    data = all_df[all_df['label'] == filter] if filter != 'all' else all_df\n",
        "\n",
        "    sp2.summaries_violin_plot(x, y, data, plt_title, title_size, save_path, inner_plot=inner_plot_format)\n"
      ]
    }
  ],
  "metadata": {
    "colab": {
      "provenance": []
    },
    "kernelspec": {
      "display_name": "base",
      "language": "python",
      "name": "python3"
    },
    "language_info": {
      "codemirror_mode": {
        "name": "ipython",
        "version": 3
      },
      "file_extension": ".py",
      "mimetype": "text/x-python",
      "name": "python",
      "nbconvert_exporter": "python",
      "pygments_lexer": "ipython3",
      "version": "3.11.5"
    }
  },
  "nbformat": 4,
  "nbformat_minor": 5
}
