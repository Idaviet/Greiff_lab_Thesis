{
  "cells": [
    {
      "cell_type": "markdown",
      "id": "7e04d4e1",
      "metadata": {},
      "source": [
        "Prepares PDB files of analyzed sequences for SPACE2 structural analysis. Generates a csv file with the PDB file names & location for each clustered reduction CSV inputted. \n",
        "\n",
        "Contains separate section for single reduction, full folder and multi-folder preparation"
      ]
    },
    {
      "cell_type": "markdown",
      "id": "ee559b76",
      "metadata": {
        "id": "ee559b76"
      },
      "source": [
        "## Setup"
      ]
    },
    {
      "cell_type": "code",
      "execution_count": null,
      "id": "b14ad246",
      "metadata": {
        "id": "b14ad246"
      },
      "outputs": [],
      "source": [
        "import sys\n",
        "sys.path.append('/Users/isaacdaviet/Desktop/thesis/python versions')\n",
        "# replace with directory containing the .py calculation files below\n",
        "import SPACE2_analysis as sp2"
      ]
    },
    {
      "cell_type": "markdown",
      "id": "d8021eb8",
      "metadata": {
        "id": "d8021eb8"
      },
      "source": [
        "## Assign PDB file names to final cluster files"
      ]
    },
    {
      "cell_type": "markdown",
      "id": "ef403159",
      "metadata": {
        "id": "ef403159"
      },
      "source": [
        "### Extract pdb files from individual cluster csv file"
      ]
    },
    {
      "cell_type": "markdown",
      "id": "c6d35ba2",
      "metadata": {},
      "source": [
        "Organize PDB files based on the provided cluster information. For a given .csv file, will create a new folder for each cluster indicated, organized by label type and priority status, and save a csv file containing the output folder as column name and the associated .pdb files for all sequences found in the cluster.\n"
      ]
    },
    {
      "cell_type": "code",
      "execution_count": null,
      "id": "52e6e711",
      "metadata": {
        "id": "52e6e711"
      },
      "outputs": [],
      "source": [
        "### Input Files & Folders\n",
        "cluster_csv = r'/Users/isaacdaviet/Desktop/results/clustering/dbscan_clusters/correlation_clusters/csv_files/UMAP_Mason-correlation-3-25-0.0-1-2_dbscanClusters-0.15-20.csv'\n",
        "# CSV file containing final clusters for a specific reduction\n",
        "\n",
        "pdb_folder = r'/Users/isaacdaviet/Desktop/mason_igfold_models/mason_igfold_models/igfold_outfile'\n",
        "# folder containing pdb structure files for all sequences. File names must contain iSeq identifier\n",
        "\n",
        "output_folder = r'/Users/isaacdaviet/Desktop/results/SPACE2_analysis'\n",
        "\n",
        "\n",
        "### Organizing Parameters\n",
        "cluster_column = 'Cluster' \n",
        "# decide if want to use original ('Cluster') or adjusted clusters ('adjusted_clusters')\n",
        "\n",
        "pdb_naming_format = 'mHER_H3_LABELID_unique_fv_ISEQ#_igfold.pdb' \n",
        "# insert '#' where unique iseq identifier and 'LABELID' where label ('AgPos'/'AgNeg') will be replaced in template\n",
        "\n",
        "labels_to_organize = 'all' \n",
        "#Replace with 'binders' or 'non binders' if only want to analyze one label type\n",
        "\n",
        "binder_priorities_to_ignore = ['unclustered']\n",
        "nonbinder_priorities_to_ignore = ['out_of_bounds', 'unclustered']\n",
        "\n",
        "\n",
        "\n",
        "sp2.organize_pdb(cluster_csv = cluster_csv, pdb_folder = pdb_folder, output_folder = output_folder, cluster_column = cluster_column, pdb_naming_format = pdb_naming_format, labels_to_organize = labels_to_organize, binder_priorities_to_ignore = binder_priorities_to_ignore, nonbinder_priorities_to_ignore = nonbinder_priorities_to_ignore)"
      ]
    },
    {
      "cell_type": "markdown",
      "id": "90eddd6c",
      "metadata": {
        "id": "90eddd6c"
      },
      "source": [
        "### Extract pdb files from entire cluster csv folder"
      ]
    },
    {
      "cell_type": "markdown",
      "id": "88b67861",
      "metadata": {},
      "source": [
        "Uses organize_pdb function to iterate through all cluster csv files found in a given folder and outputs the organized folders into the given output folder\n"
      ]
    },
    {
      "cell_type": "code",
      "execution_count": null,
      "id": "79965240",
      "metadata": {
        "id": "79965240"
      },
      "outputs": [],
      "source": [
        "### Input Folders\n",
        "csv_folder = r'/Users/isaacdaviet/Desktop/results/clustering/dbscan_clusters/correlation_clusters/csv_files'\n",
        "\n",
        "pdb_folder = r'/Users/isaacdaviet/Desktop/mason_igfold_models/mason_igfold_models/igfold_outfile'\n",
        "\n",
        "output_folder = r'/Users/isaacdaviet/Desktop/results/SPACE2_analysis/correlation_clusters'\n",
        "\n",
        "\n",
        "### Organizing Parameters\n",
        "cluster_column = 'Cluster', \n",
        "# Use  of original 'Cluster' or 'adjusted_cluster' column\n",
        "\n",
        "pdb_naming_format = 'mHER_H3_LABELID_unique_fv_ISEQ#_igfold.pdb'\n",
        "# insert '#' where unique iseq identifier and 'LABELID' where label ('AgPos'/'AgNeg') will be replaced in template\n",
        "\n",
        "labels_to_organize = 'binders' \n",
        "#Replace with 'binders' or 'non binders' if only want to analyze one label type\n",
        "\n",
        "binder_priorities_to_ignore = ['unclustered'] # as list\n",
        "\n",
        "nonbinder_priorities_to_ignore = ['out_of_bounds', 'unclustered'] # as list\n",
        "\n",
        "sp2.space2_prep_folders(csv_folder = csv_folder, pdb_folder = pdb_folder, output_folder = output_folder, cluster_column = cluster_column, pdb_naming_format = pdb_naming_format, labels_to_organize = labels_to_organize, binder_priorities_to_ignore = binder_priorities_to_ignore, nonbinder_priorities_to_ignore = nonbinder_priorities_to_ignore)\n"
      ]
    },
    {
      "cell_type": "markdown",
      "id": "f8441da6",
      "metadata": {
        "id": "f8441da6"
      },
      "source": [
        "### Extract pdb files from multiple folders of similar naming format"
      ]
    },
    {
      "cell_type": "markdown",
      "id": "02285d42",
      "metadata": {},
      "source": [
        "Prepares all folders for SPACE2 using above space2_prep_folders and organize_pdb functions. Since previous steps in workflow can create separate distance metric subfolders, this cell allows for the automatic iteration of all subfolders.\n"
      ]
    },
    {
      "cell_type": "code",
      "execution_count": null,
      "id": "906f1c64",
      "metadata": {
        "id": "906f1c64"
      },
      "outputs": [],
      "source": [
        "pdb_folder = r'/Users/isaacdaviet/Desktop/mason_igfold_models/mason_igfold_models/igfold_outfile'\n",
        "# folder containing all IGfold models in .pdb file format\n",
        "\n",
        "\n",
        "input_folder_format = r'/Users/isaacdaviet/Desktop/results/clustering/dbscan_clusters/IDMETRIC_clusters/csv_files'\n",
        "output_folder_format = r'/Users/isaacdaviet/Desktop/results/SPACE2_analysis/pdb_lists/IDMETRIC_DBsc_PDBs'\n",
        "what_to_replace_in_folder_format_strings = 'IDMETRIC'\n",
        "# string sequence in 'input_folder_format' & 'output_folder_format' strings that will be replaced with items in 'what_to_replace_it_with' list\n",
        "\n",
        "what_to_replace_it_with = ['correlation', 'cosine', 'euclidean', 'hamming', 'manhattan']\n",
        "# strings that the 'what_to_replace_in_folder_format_strings' string will be replaced with\n",
        "\n",
        "\n",
        "cluster_column = 'Cluster'\n",
        "pdb_naming_format = 'mHER_H3_LABELID_unique_fv_ISEQ#_igfold.pdb'\n",
        "labels_to_organize = 'all'\n",
        "binder_priorities_to_ignore = ['unclustered']\n",
        "nonbinder_priorities_to_ignore = ['out_of_bounds', 'unclustered']\n",
        "\n",
        "\n",
        "sp2.prep_all_folders_for_space2(what_to_replace_it_with,\n",
        "                                pdb_folder,\n",
        "                                input_folder_format,\n",
        "                                output_folder_format,\n",
        "                                what_to_replace_in_folder_format_strings,\n",
        "                                cluster_column = cluster_column,\n",
        "                                pdb_naming_format = pdb_naming_format,\n",
        "                                labels_to_organize = labels_to_organize,\n",
        "                                binder_priorities_to_ignore = binder_priorities_to_ignore,\n",
        "                                nonbinder_priorities_to_ignore = nonbinder_priorities_to_ignore)"
      ]
    }
  ],
  "metadata": {
    "colab": {
      "provenance": []
    },
    "kernelspec": {
      "display_name": "base",
      "language": "python",
      "name": "python3"
    },
    "language_info": {
      "codemirror_mode": {
        "name": "ipython",
        "version": 3
      },
      "file_extension": ".py",
      "mimetype": "text/x-python",
      "name": "python",
      "nbconvert_exporter": "python",
      "pygments_lexer": "ipython3",
      "version": "3.11.5"
    }
  },
  "nbformat": 4,
  "nbformat_minor": 5
}
