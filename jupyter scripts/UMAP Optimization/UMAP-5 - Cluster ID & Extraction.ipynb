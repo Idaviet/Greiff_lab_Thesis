{
  "cells": [
    {
      "cell_type": "markdown",
      "id": "ee559b76",
      "metadata": {
        "id": "ee559b76"
      },
      "source": [
        "## Files to Import"
      ]
    },
    {
      "cell_type": "code",
      "execution_count": null,
      "id": "d230be1e",
      "metadata": {
        "id": "d230be1e"
      },
      "outputs": [],
      "source": [
        "project_name = 'Mason'\n",
        "# Name of project for file saving and graph title purposes\n",
        "\n",
        "labeled_seq_csv_file=\n",
        "\n",
        "umap_reductions_folder=\n",
        "\n",
        "unique_positive_fv =r'/Users/isaacdaviet/Desktop/mason_igfold_models/mason_igfold_models/outfile/mHER_H3_AgPos_unique_fv.csv'\n",
        "\n",
        "unique_negative_fv = r'/Users/isaacdaviet/Desktop/mason_igfold_models/mason_igfold_models/outfile/mHER_H3_AgNeg_unique_fv.csv'\n",
        "\n",
        "selected_graphs_csv = r'/Users/isaacdaviet/Desktop/graphs/clustering/mason_umap_clustering_analysis_binders.csv'\n",
        "# csv file containing ranges to test/plot. column format: [distance metric, start neighbors, end neighbors, neighbors step, start dist, end dist, dist step]. INCLUDE THESE EXACT COLUMN NAMES"
      ]
    },
    {
      "cell_type": "markdown",
      "id": "9acaaaa8",
      "metadata": {},
      "source": [
        "## Setup"
      ]
    },
    {
      "cell_type": "code",
      "execution_count": null,
      "id": "b14ad246",
      "metadata": {
        "id": "b14ad246"
      },
      "outputs": [],
      "source": [
        "import sys\n",
        "sys.path.append('/Users/isaacdaviet/Desktop/thesis/python versions')\n",
        "# replace with directory containing the .py calculation files below\n",
        "import clustering_functions as clustering\n",
        "import pandas as pd"
      ]
    },
    {
      "cell_type": "markdown",
      "id": "d8021eb8",
      "metadata": {
        "id": "d8021eb8"
      },
      "source": [
        "## Add iSeq Identifiers to Labeled Sequences CSV File"
      ]
    },
    {
      "cell_type": "code",
      "execution_count": null,
      "id": "f60c1896",
      "metadata": {
        "id": "f60c1896",
        "outputId": "e156bb2d-2646-48ce-cddc-57ab31c6dc00"
      },
      "outputs": [],
      "source": [
        "clustering.add_iseq_to_labels_file(labeled_seq_csv_file, unique_positive_fv, unique_negative_fv)"
      ]
    },
    {
      "cell_type": "markdown",
      "id": "606a7059",
      "metadata": {
        "id": "606a7059"
      },
      "source": [
        "# Optimize clustering\n"
      ]
    },
    {
      "cell_type": "markdown",
      "id": "3b2231b5",
      "metadata": {
        "id": "3b2231b5"
      },
      "source": [
        "MISSING: STRUCTURE OF CSV FILE\n",
        "\n",
        "Run each umap selection individually until desired clusters are acheived. When satified, switch 'generate' column to done.\n",
        "\n",
        "Steps:\n",
        "- select which clustering algorithm to use and which point type (binders/non binders) to use\n",
        "- In the 'selected_graphs_csv' file, fill the generate column with 'y' for the graphs you would like to optimize\n",
        "- Fill in the variables in the csv file for the appropriate algorithm (dbscan_eps + dbscan_min_samples for dbscan and agg_n_clusters and agg_linkage for agglomerative)\n",
        "- Save changes to csv file and run cell below\n",
        "- Analyze resulting plotly and adjust parameters until satisified with the clustering\n",
        "- Use the 'combine_clusters' column to specify which clusters, if any, should be merged. Note: specifically designed for   clusters that are difficult to cluster as a single group and that would be classified as 'low priority' in the QC steps\n",
        "- When satisfied, switch 'generate' to 'done' and proceed to next graph\n"
      ]
    },
    {
      "cell_type": "code",
      "execution_count": null,
      "id": "33482c20",
      "metadata": {
        "id": "33482c20"
      },
      "outputs": [],
      "source": [
        "save_folder = r'/Users/isaacdaviet/Desktop/results/clustering/PCA_dbscan_clusters'\n",
        "#save folder for graphs and cvs files.\n",
        "\n",
        "algorithm = 'dbscan'\n",
        "# Which clustering algorithm to use. As it stands now, dbscan and agglomerative are the only options available.\n",
        "\n",
        "\n",
        "clustering.cluster_extract_and_plot(selected_graphs_csv, labeled_seq_csv_file, umap_reductions_folder, clusters = points_to_optimize, algorithm = algorithm, generate_indicator = 'y', plt_size = [60, 20], pt_size = 30, fontsize=64, show_unclustered_pts='n' ,save_graph = 'n', save_folder = save_folder, project_name=project_name, save_clusters_csv = 'n', save_plotly = 'y')\n"
      ]
    },
    {
      "cell_type": "markdown",
      "id": "25344856",
      "metadata": {
        "id": "25344856"
      },
      "source": [
        "# Full Clustering"
      ]
    },
    {
      "cell_type": "markdown",
      "id": "97597d46",
      "metadata": {
        "id": "97597d46"
      },
      "source": [
        "Produces csv, plotly and png graphs of all clusters indicated by 'done' in the generate column. Png images contain original binder/non binder + binder clusters + non binder clusters graphs as a single image.\n",
        "\n",
        "NOTE: cluster graphs in png images DO NOT display any unclustered points, but the plotly graphs do."
      ]
    },
    {
      "cell_type": "code",
      "execution_count": null,
      "id": "e5eec7c0",
      "metadata": {
        "id": "e5eec7c0"
      },
      "outputs": [],
      "source": [
        "save_folder = r'/Users/isaacdaviet/Desktop/graphs/clustering/dbscan_clusters'\n",
        "#save folder for graphs and cvs files.\n",
        "\n",
        "points_to_optimize = 'both'\n",
        "# what points to show on graphs. 'both'/'all' shows binders and non binders in same graph, 'binders' show only binders, 'non binders' shows only non binders\n",
        "\n",
        "algorithm = 'dbscan'\n",
        "\n",
        "### Final save (csv, html plotly and subplots)\n",
        "clustering.cluster_extract_and_plot(selected_graphs_csv, labeled_seq_csv_file, umap_reductions_folder,\n",
        "                                     clusters = points_to_optimize, \n",
        "                                     algorithm = algorithm,\n",
        "                                     generate_indicator = 'done', # Do not change\n",
        "                                     plt_size = [60, 20],\n",
        "                                     pt_size = 20,\n",
        "                                     fontsize=64,\n",
        "                                     show_unclustered_pts='n', # Recommend not to change as unclustered points make analysis difficult\n",
        "                                     save_graph = 'n', # Save resulting graph as a .png\n",
        "                                     save_folder = save_folder, project_name=project_name, save_clusters_csv = 'y',\n",
        "                                     save_plotly = 'n') # save resulting graph as a plotly"
      ]
    },
    {
      "cell_type": "markdown",
      "id": "ba9b52f8",
      "metadata": {
        "id": "ba9b52f8"
      },
      "source": [
        "# Manual Cluster Adjustement & Classification"
      ]
    },
    {
      "cell_type": "markdown",
      "id": "566d453a",
      "metadata": {
        "id": "566d453a"
      },
      "source": [
        "Modifies cluster dataframes to create add 'adjusted_clusters', which updates the clusters to reflect the manual cluster combination specified in the combine_clusters column of the cluster_analysis csv file, and a 'priority' column that classifies each point in a cluster as high/med/low/out_of_bounds priority based on percentages used as input parameters."
      ]
    },
    {
      "cell_type": "code",
      "execution_count": null,
      "id": "8c7c1731",
      "metadata": {
        "id": "8c7c1731"
      },
      "outputs": [],
      "source": [
        "### Manual inspection of a specific data frame's clusters as a percentage of the total number of points for a specific LABEL (ie: (# binders in cluster / total # of binders) * 100)\n",
        "\n",
        "clusters_df = r'/Users/isaacdaviet/Desktop/graphs/clustering/correlation_clusters/csv_files/UMAP_Mason-correlation-3-25-0.0-1-2_dbscanClusters-0.15-20.csv'\n",
        "\n",
        "\n",
        "points = 'non binders' # point type to analyze ('all', 'Binder', 'Non Binder')\n",
        "\n",
        "clusters_df = pd.read_csv(clusters_df)\n",
        "\n",
        "priorities = clustering.cluster_priority(clusters_df, \n",
        "                                         high_threshold = 10, # above = high priority \n",
        "                                         low_threshold = 1, # Below = low piority\n",
        "                                         upper_limit = None, # above = out_of_bounds\n",
        "                                         print_percentages = points)"
      ]
    },
    {
      "cell_type": "code",
      "execution_count": null,
      "id": "6c57a6d3",
      "metadata": {
        "id": "6c57a6d3",
        "outputId": "7a5650b5-36e3-40f8-f773-c3beff91322e"
      },
      "outputs": [],
      "source": [
        "### Automatically applies cluster adjustment and prioritization to all csv_files in a folder. Thresholds/upper limit are set as percentages\n",
        "\n",
        "high_threshold = 10\n",
        "low_threshold = 1\n",
        "upper_limit = 40\n",
        "\n",
        "\n",
        "clusters_csv_folder = r'/Users/isaacdaviet/Desktop/graphs/clustering/dbscan_clusters'\n",
        "\n",
        "clustering.adjust_clusters_folder(clusters_csv_folder, selected_graphs_csv, point_type = 'Binder', high_threshold = high_threshold, low_threshold = low_threshold, upper_limit = upper_limit)"
      ]
    }
  ],
  "metadata": {
    "colab": {
      "provenance": []
    },
    "kernelspec": {
      "display_name": "base",
      "language": "python",
      "name": "python3"
    },
    "language_info": {
      "codemirror_mode": {
        "name": "ipython",
        "version": 3
      },
      "file_extension": ".py",
      "mimetype": "text/x-python",
      "name": "python",
      "nbconvert_exporter": "python",
      "pygments_lexer": "ipython3",
      "version": "3.11.5"
    }
  },
  "nbformat": 4,
  "nbformat_minor": 5
}
