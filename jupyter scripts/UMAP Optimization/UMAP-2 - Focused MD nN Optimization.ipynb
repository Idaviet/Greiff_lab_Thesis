{
  "cells": [
    {
      "cell_type": "markdown",
      "id": "8e3e6bca",
      "metadata": {},
      "source": [
        "# Focused Minimum Distance and n_Neighbors Optimization\n",
        "\n",
        "Using same input IG + labeled sequence datasets as in 'UMAP-1' script as well as csv file containing moe focused min_dit and n_neighbor ranges to test for a given distance metric"
      ]
    },
    {
      "cell_type": "markdown",
      "id": "d6f8fb51",
      "metadata": {},
      "source": [
        "# Define File names and variables"
      ]
    },
    {
      "cell_type": "code",
      "execution_count": null,
      "id": "d230be1e",
      "metadata": {
        "id": "d230be1e"
      },
      "outputs": [],
      "source": [
        "### importing mason data\n",
        "### Substitute variabless for appropriate file locations\n",
        "\n",
        "ig_data = r'/Users/isaacdaviet/Desktop/mason_igfold_models/masonIG.npy'\n",
        "# numpy file containing one-hot-encoded intergraded gradients data\n",
        "\n",
        "labeled_seqs= r'/Users/isaacdaviet/Desktop/mason_igfold_models/mason_sequences_label.csv'\n",
        "# csv file containing sequences in column 1 and their status as binder (1)/non all (0) in the second column\n",
        "\n",
        "save_folder = r'/Users/isaacdaviet/Desktop/graphs'\n",
        "#save folder for graphs and cvs file.\n"
      ]
    },
    {
      "cell_type": "markdown",
      "id": "ee559b76",
      "metadata": {
        "id": "ee559b76"
      },
      "source": [
        "## Imports & Functions"
      ]
    },
    {
      "cell_type": "code",
      "execution_count": null,
      "id": "b14ad246",
      "metadata": {
        "id": "b14ad246"
      },
      "outputs": [],
      "source": [
        "# Imports & Setup\n",
        "# Example of adding a directory to the Python path\n",
        "import sys\n",
        "sys.path.append('/Users/isaacdaviet/Desktop/thesis/python versions')\n",
        "\n",
        "import pandas as pd\n",
        "import umap_calc as umap\n",
        "from umap_calc import flatten_from_files\n",
        "\n",
        "# import combined_analysis as combi\n",
        "\n",
        "\n",
        "# CSV file iteration function\n",
        "def umap_csv_iteration(ig_data, labeled_seqs, save_folder, ranges_to_test, points_to_show = ['all']):\n",
        "    df = flatten_from_files(ig_data, labeled_seqs)\n",
        "    umap_ranges = pd.read_csv(ranges_to_test)\n",
        "    print(umap_ranges)\n",
        "    umap_ranges = umap_ranges.iloc[:, 0:7]\n",
        "    results = {}\n",
        "\n",
        "    for index, row in umap_ranges.iterrows():\n",
        "        metric = row['distance metric']\n",
        "\n",
        "        n_start = row['start neighbors']\n",
        "        n_end = row['end neighbors']\n",
        "        neighbors_step = row['neighbors step']\n",
        "\n",
        "        d_start = row['start dist']\n",
        "        d_end = row['end dist']\n",
        "        min_dist_step = row['dist step']\n",
        "\n",
        "        print(f'\\nANALYZING:\\n{metric} \\n\\tNeighbors {n_start} to {n_end}, at step {neighbors_step} \\n\\tMin_Dist {d_start} to {d_end} at step {min_dist_step}') # Sanity check\n",
        "\n",
        "        key = f'{metric}_N{n_start}-{n_end}-Stp{neighbors_step}_MD{d_start}-{d_end}-Stp{min_dist_step}'\n",
        "\n",
        "        result = umap.umap_parameter_comparison_calculation(df, start_neighbors=n_start, end_neighbors=n_end, neighbor_step=neighbors_step, start_dist=d_start, end_dist=d_end, dist_step=min_dist_step, metric = metric)\n",
        "\n",
        "        print(result)\n",
        "\n",
        "        results[key]= result\n",
        "\n",
        "        for t in points_to_show:\n",
        "            umap.umap_parameter_sub_plt(result, metric=metric, show_pts=t, show_graph = 'y', save_graph='y', save_path=save_folder, project_name='Mason', plt_size = [50, 30])\n",
        "\n",
        "    return results\n"
      ]
    },
    {
      "cell_type": "markdown",
      "id": "606a7059",
      "metadata": {
        "id": "606a7059"
      },
      "source": [
        "# Focused UMAP optimzation"
      ]
    },
    {
      "cell_type": "code",
      "execution_count": null,
      "id": "33482c20",
      "metadata": {
        "id": "33482c20",
        "outputId": "0a03d6ea-ffae-4ed8-a29b-96a2ad59428a"
      },
      "outputs": [],
      "source": [
        "ranges_to_test = r'/Users/isaacdaviet/Desktop/graphs/UMAP_analysis/UMAP_manhattan_hyper_focus.csv'\n",
        "# csv file containing ranges to test/plot. column format: [distance metric, start neighbors, end neighbors, neighbors step, start dist, end dist, dist step]. INCLUDE THESE EXACT COLUMN NAMES\n",
        "\n",
        "points_to_show = ['all', 'binders']\n",
        "# what points to show on graphs. 'all' shows binders and non binders in same graph, 'binders' show only binders, 'non binders' shows only non binders\n",
        "\n",
        "# save_umap_results_as_csv_file = 'y'\n",
        "# saves umap calculation results as a .csv files. Recommended so as to not have to repeat all the calculations, which can take several hours.\n",
        "\n",
        "results = umap_csv_iteration(ig_data, labeled_seqs, save_folder, ranges_to_test, points_to_show = points_to_show)"
      ]
    }
  ],
  "metadata": {
    "colab": {
      "provenance": []
    },
    "kernelspec": {
      "display_name": "base",
      "language": "python",
      "name": "python3"
    },
    "language_info": {
      "codemirror_mode": {
        "name": "ipython",
        "version": 3
      },
      "file_extension": ".py",
      "mimetype": "text/x-python",
      "name": "python",
      "nbconvert_exporter": "python",
      "pygments_lexer": "ipython3",
      "version": "3.11.5"
    }
  },
  "nbformat": 4,
  "nbformat_minor": 5
}
