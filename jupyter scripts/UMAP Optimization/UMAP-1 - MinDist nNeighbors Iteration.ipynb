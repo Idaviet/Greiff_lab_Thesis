{
  "cells": [
    {
      "cell_type": "markdown",
      "id": "e5b3be9c",
      "metadata": {
        "id": "e5b3be9c"
      },
      "source": [
        "# Broad Parameter Search"
      ]
    },
    {
      "cell_type": "markdown",
      "id": "890119f7",
      "metadata": {
        "id": "890119f7"
      },
      "source": [
        "Research code to broadely search UMAP minimum distances and neighbor parameters to narrow ideal parameters to a specific range. Replace variables with files containing labeled seqs and associated integrated gradient values"
      ]
    },
    {
      "cell_type": "markdown",
      "id": "df156d88",
      "metadata": {
        "id": "df156d88"
      },
      "source": [
        "## Imports and setups"
      ]
    },
    {
      "cell_type": "code",
      "execution_count": null,
      "id": "w4losEe8meQV",
      "metadata": {
        "id": "w4losEe8meQV"
      },
      "outputs": [],
      "source": [
        "# Imports & Setup\n",
        "# Example of adding a directory to the Python path\n",
        "import sys\n",
        "sys.path.append('/Users/isaacdaviet/Desktop/thesis/python versions')\n",
        "\n",
        "import pdb_extraction as extract\n",
        "import onehot_encoded as onehot\n",
        "import umap_calc as umap\n",
        "from umap_calc import flatten_labeled_data\n",
        "from umap_calc import flatten_from_files\n",
        "import pca_calc as pca\n",
        "import tSNE_calc as tsne\n",
        "\n",
        "# import combined_analysis as combi"
      ]
    },
    {
      "cell_type": "markdown",
      "id": "10f6f69a",
      "metadata": {},
      "source": [
        "## Input Integrated Gradient and Labeled Sequence Files to Analyze"
      ]
    },
    {
      "cell_type": "code",
      "execution_count": null,
      "id": "95c37d75",
      "metadata": {
        "id": "95c37d75"
      },
      "outputs": [],
      "source": [
        "# numpy file containing one-hot-encoded intergraded gradients data\n",
        "ig_data = r'/Users/isaacdaviet/Desktop/mason_igfold_models/masonIG.npy'\n",
        "\n",
        "# csv file containing sequences in column 1 and their status as binder (1)/non binders (0) in the second column\n",
        "labeled_seqs= r'/Users/isaacdaviet/Desktop/mason_igfold_models/mason_sequences_label.csv' \n",
        "\n",
        "metric_to_test = ['euclidean', 'manhattan','cosine', 'correlation', 'mahalanobis', 'hamming', 'hellinger', 'bhattacharyya', 'kl_div', 'wasserstein']\n",
        "\n",
        "\n",
        "# Combine sequence, label and IG values into single data frame for analysis\n",
        "df = flatten_from_files(ig_data, labeled_seqs)"
      ]
    },
    {
      "cell_type": "markdown",
      "id": "dcd25ec4",
      "metadata": {},
      "source": [
        "# Optimization by Distance Metric\n",
        "\n",
        "Iterate through number of neighbors and minimum distance separately for all distance metrics of interest. Set start and end points as well as step size between each graph. Graphs will not be automatically saved unless save_graph, save_path, & project_name variables are set. Each step will generate graphs for the all-sequences, binders-only, and non-binders datasets for distribution comparisons (this can be deactivated by switching iterate_all_pt_types variable to 'n'. Setting show_pts variable to 'binders' or 'non binders' will then only show only the selected sequence types)\n",
        "\n",
        "First subsection calls function to set distance metric of interest manually, with all following subsections set to a selection of distance metrics for simultaneous iteration and comparison.\n",
        "\n",
        "Based on previous work, min_dist default set at 0.1 for neighbors iteration & n_neighbors set to 15 for min_dist iteration, though these can be adjusted depending on the results used. Similarly, recommended default start/stop/step values are preset to 2/200/20 for neighbors and 0/1/0.05 for min_dist, though these can als be changed depending on dataset"
      ]
    },
    {
      "cell_type": "markdown",
      "id": "c83560b8",
      "metadata": {},
      "source": [
        "### Manual Distance Metric Selection"
      ]
    },
    {
      "cell_type": "markdown",
      "id": "20bd7b45",
      "metadata": {},
      "source": [
        "#### Iterate Neighbors"
      ]
    },
    {
      "cell_type": "code",
      "execution_count": null,
      "id": "0a4219b6",
      "metadata": {},
      "outputs": [],
      "source": [
        "metric = 'euclidean'\n",
        "\n",
        "starting_neighbors=2\n",
        "final_neighbors=200\n",
        "step =20\n",
        "\n",
        "min_dist=0.1\n",
        "\n",
        "umap.umap_iterate_neighbors(df, starting_neighbors=starting_neighbors, final_neighbors=final_neighbors, step =step, min_dist=min_dist, metric = metric, show_pts='all', show_graph='y', save_graph=None, save_path=None, project_name=None, iterate_all_pt_types='y')"
      ]
    },
    {
      "cell_type": "markdown",
      "id": "a233f7b1",
      "metadata": {},
      "source": [
        "#### Iterate Minimum Distance"
      ]
    },
    {
      "cell_type": "code",
      "execution_count": null,
      "id": "72b43b2a",
      "metadata": {},
      "outputs": [],
      "source": [
        "metric = 'euclidean'\n",
        "\n",
        "starting_dist=0\n",
        "final_dist=1\n",
        "step=0.05\n",
        "\n",
        "n_neighbors = 15 \n",
        "\n",
        "umap.umap_iterate_min_dist(df, starting_dist=starting_dist, final_dist=final_dist, step=step, n_neighbors = n_neighbors, metric = metric, show_pts='all', show_graph='y', save_graph='n', save_path=None, project_name=None, iterate_all_pt_types='y')"
      ]
    },
    {
      "cell_type": "markdown",
      "id": "efcff219",
      "metadata": {
        "id": "efcff219"
      },
      "source": [
        "### Euclidian"
      ]
    },
    {
      "cell_type": "markdown",
      "id": "73fc2802",
      "metadata": {
        "id": "73fc2802"
      },
      "source": [
        "Simplest reduction technique. Can often be a good starting point.\n",
        "Well-suited for continuous numerical data. It assumes that straight-line distances accurately represent relationships between points."
      ]
    },
    {
      "cell_type": "markdown",
      "id": "e0b07836",
      "metadata": {
        "id": "e0b07836"
      },
      "source": [
        "#### Iterate Neighbors"
      ]
    },
    {
      "cell_type": "code",
      "execution_count": null,
      "id": "43e7c119",
      "metadata": {
        "id": "43e7c119",
        "outputId": "abe2eb83-f28f-494c-ac5a-78b77bd2d17d"
      },
      "outputs": [],
      "source": [
        "starting_neighbors=2\n",
        "final_neighbors=200\n",
        "step =20\n",
        "\n",
        "min_dist=0.1\n",
        "\n",
        "umap.umap_iterate_neighbors(df, starting_neighbors=starting_neighbors, final_neighbors=final_neighbors, step =step, min_dist=min_dist, metric = 'euclidean', show_pts='all', show_graph='y', save_graph=None, save_path=None, project_name=None, iterate_all_pt_types='y')"
      ]
    },
    {
      "cell_type": "markdown",
      "id": "2fea945f",
      "metadata": {
        "id": "2fea945f"
      },
      "source": [
        "#### Iterate Minimum Distance"
      ]
    },
    {
      "cell_type": "code",
      "execution_count": null,
      "id": "2d5fdca3",
      "metadata": {
        "id": "2d5fdca3",
        "outputId": "fa5dc30c-1dc0-440c-8c0d-db29edde8311"
      },
      "outputs": [],
      "source": [
        "starting_dist=0\n",
        "final_dist=1\n",
        "step=0.05\n",
        "\n",
        "n_neighbors = 15 \n",
        "\n",
        "umap.umap_iterate_min_dist(df, starting_dist=starting_dist, final_dist=final_dist, step=step, n_neighbors = n_neighbors, metric = 'euclidean', show_pts='all', show_graph='y', save_graph='n', save_path=None, project_name=None, iterate_all_pt_types='y')"
      ]
    },
    {
      "cell_type": "markdown",
      "id": "0119a177",
      "metadata": {
        "id": "0119a177"
      },
      "source": [
        "### Manhattan"
      ]
    },
    {
      "cell_type": "markdown",
      "id": "1a9b7a76",
      "metadata": {
        "id": "1a9b7a76"
      },
      "source": []
    },
    {
      "cell_type": "markdown",
      "id": "28b01820",
      "metadata": {
        "id": "28b01820"
      },
      "source": [
        "#### Iterate Neighbors"
      ]
    },
    {
      "cell_type": "code",
      "execution_count": null,
      "id": "c4e92ae5",
      "metadata": {
        "id": "c4e92ae5",
        "outputId": "acb45eb5-6caa-40b4-9987-212c7d4bfb2f"
      },
      "outputs": [],
      "source": [
        "starting_neighbors=2\n",
        "final_neighbors=200\n",
        "step =20\n",
        "\n",
        "min_dist=0.1\n",
        "\n",
        "umap.umap_iterate_neighbors(df, starting_neighbors=starting_neighbors, final_neighbors=final_neighbors, step =step, min_dist=min_dist, metric = 'manhattan', show_pts='all', show_graph='y', save_graph=None, save_path=None, project_name=None, iterate_all_pt_types='y')"
      ]
    },
    {
      "cell_type": "markdown",
      "id": "b35e649a",
      "metadata": {
        "id": "b35e649a"
      },
      "source": [
        "#### Iterate Minimum Distance"
      ]
    },
    {
      "cell_type": "code",
      "execution_count": null,
      "id": "47777f37",
      "metadata": {
        "id": "47777f37",
        "outputId": "fd0d983f-fdda-46a0-f056-2d9e33ae7635"
      },
      "outputs": [],
      "source": [
        "starting_dist=0\n",
        "final_dist=1\n",
        "step=0.05\n",
        "\n",
        "n_neighbors = 15 \n",
        "\n",
        "umap.umap_iterate_min_dist(df, starting_dist=starting_dist, final_dist=final_dist, step=step, n_neighbors = n_neighbors, metric = 'manhattan', show_pts='all', show_graph='y', save_graph='n', save_path=None, project_name=None, iterate_all_pt_types='y')"
      ]
    },
    {
      "cell_type": "markdown",
      "id": "53a9d292",
      "metadata": {
        "id": "53a9d292"
      },
      "source": [
        "### Cosine"
      ]
    },
    {
      "cell_type": "markdown",
      "id": "387b64fa",
      "metadata": {
        "id": "387b64fa"
      },
      "source": []
    },
    {
      "cell_type": "markdown",
      "id": "0d18a0f8",
      "metadata": {
        "id": "0d18a0f8"
      },
      "source": [
        "#### Iterate Neighbors"
      ]
    },
    {
      "cell_type": "code",
      "execution_count": null,
      "id": "cb8bd84a",
      "metadata": {
        "id": "cb8bd84a",
        "outputId": "ff7bb381-fd92-4979-e74d-6d71da670a96"
      },
      "outputs": [],
      "source": [
        "starting_neighbors=2\n",
        "final_neighbors=200\n",
        "step =20\n",
        "\n",
        "min_dist=0.1\n",
        "\n",
        "umap.umap_iterate_neighbors(df, starting_neighbors=starting_neighbors, final_neighbors=final_neighbors, step =step, min_dist=min_dist, metric = 'cosine', show_pts='all', show_graph='y', save_graph=None, save_path=None, project_name=None, iterate_all_pt_types='y')"
      ]
    },
    {
      "cell_type": "markdown",
      "id": "cf88d13b",
      "metadata": {
        "id": "cf88d13b"
      },
      "source": [
        "#### Iterate Minimum Distance"
      ]
    },
    {
      "cell_type": "code",
      "execution_count": null,
      "id": "ad32f7d7",
      "metadata": {
        "id": "ad32f7d7",
        "outputId": "14edeb66-4f7e-4466-bc37-f2f47a771e59"
      },
      "outputs": [],
      "source": [
        "starting_dist=0\n",
        "final_dist=1\n",
        "step=0.05\n",
        "\n",
        "n_neighbors = 15 \n",
        "\n",
        "umap.umap_iterate_min_dist(df, starting_dist=starting_dist, final_dist=final_dist, step=step, n_neighbors = n_neighbors, metric = 'cosine', show_pts='all', show_graph='y', save_graph='n', save_path=None, project_name=None, iterate_all_pt_types='y')"
      ]
    },
    {
      "cell_type": "markdown",
      "id": "e702f979",
      "metadata": {
        "id": "e702f979"
      },
      "source": [
        "### Correlation"
      ]
    },
    {
      "cell_type": "markdown",
      "id": "e8bb2f86",
      "metadata": {
        "id": "e8bb2f86"
      },
      "source": []
    },
    {
      "cell_type": "markdown",
      "id": "4e88157b",
      "metadata": {
        "id": "4e88157b"
      },
      "source": [
        "#### Iterate Neighbors"
      ]
    },
    {
      "cell_type": "code",
      "execution_count": null,
      "id": "cec3caad",
      "metadata": {
        "id": "cec3caad",
        "outputId": "94467fcb-480d-416b-b5c6-549b015b603c"
      },
      "outputs": [],
      "source": [
        "starting_neighbors=2\n",
        "final_neighbors=200\n",
        "step =20\n",
        "\n",
        "min_dist=0.1\n",
        "\n",
        "umap.umap_iterate_neighbors(df, starting_neighbors=starting_neighbors, final_neighbors=final_neighbors, step =step, min_dist=min_dist1, metric = 'correlation', show_pts='all', show_graph='y', save_graph=None, save_path=None, project_name=None, iterate_all_pt_types='y')"
      ]
    },
    {
      "cell_type": "markdown",
      "id": "b7d099b7",
      "metadata": {
        "id": "b7d099b7"
      },
      "source": [
        "#### Iterate Minimum Distance"
      ]
    },
    {
      "cell_type": "code",
      "execution_count": null,
      "id": "7baff626",
      "metadata": {
        "id": "7baff626",
        "outputId": "cb5a5a8f-96cb-49ba-fc0a-f346dae7bb71"
      },
      "outputs": [],
      "source": [
        "starting_dist=0\n",
        "final_dist=1\n",
        "step=0.05\n",
        "\n",
        "n_neighbors = 15 \n",
        "\n",
        "umap.umap_iterate_min_dist(df, starting_dist=starting_dist, final_dist=final_dist, step=step, n_neighbors = n_neighbors, metric = 'correlation', show_pts='all', show_graph='y', save_graph='n', save_path=None, project_name=None, iterate_all_pt_types='y')"
      ]
    },
    {
      "cell_type": "markdown",
      "id": "745b5ab2",
      "metadata": {
        "id": "745b5ab2"
      },
      "source": [
        "### Hamming"
      ]
    },
    {
      "cell_type": "markdown",
      "id": "142be893",
      "metadata": {
        "id": "142be893"
      },
      "source": []
    },
    {
      "cell_type": "markdown",
      "id": "deeb3538",
      "metadata": {
        "id": "deeb3538"
      },
      "source": [
        "#### Iterate Neighbors"
      ]
    },
    {
      "cell_type": "code",
      "execution_count": null,
      "id": "bccbfa6c",
      "metadata": {
        "id": "bccbfa6c",
        "outputId": "5f5b57a2-eae6-4477-e73a-abfc72376762"
      },
      "outputs": [],
      "source": [
        "starting_neighbors=2\n",
        "final_neighbors=200\n",
        "step =20\n",
        "\n",
        "min_dist=0.1\n",
        "\n",
        "umap.umap_iterate_neighbors(df, starting_neighbors=starting_neighbors, final_neighbors=final_neighbors, step =step, min_dist=min_dist, metric = 'hamming', show_pts='all', show_graph='y', save_graph=None, save_path=None, project_name=None, iterate_all_pt_types='y')"
      ]
    },
    {
      "cell_type": "markdown",
      "id": "f905d4e2",
      "metadata": {
        "id": "f905d4e2"
      },
      "source": [
        "#### Iterate Minimum Distance"
      ]
    },
    {
      "cell_type": "code",
      "execution_count": null,
      "id": "aIhcOjFHmeQf",
      "metadata": {
        "id": "aIhcOjFHmeQf",
        "outputId": "c7ba402f-df66-4816-8004-8e83aea8cc47"
      },
      "outputs": [],
      "source": [
        "starting_dist=0\n",
        "final_dist=1\n",
        "step=0.05\n",
        "\n",
        "n_neighbors = 15 \n",
        "\n",
        "umap.umap_iterate_min_dist(df, starting_dist=starting_dist, final_dist=final_dist, step=step, n_neighbors = n_neighbors, metric = 'hamming', show_pts='all', show_graph='y', save_graph='n', save_path=None, project_name=None, iterate_all_pt_types='y')"
      ]
    },
    {
      "cell_type": "markdown",
      "id": "f2d8da3f",
      "metadata": {
        "id": "f2d8da3f"
      },
      "source": [
        "### Hamming"
      ]
    },
    {
      "cell_type": "markdown",
      "id": "7a9231d0",
      "metadata": {
        "id": "7a9231d0"
      },
      "source": []
    },
    {
      "cell_type": "markdown",
      "id": "eebbac4b",
      "metadata": {
        "id": "eebbac4b"
      },
      "source": [
        "#### Iterate Neighbors"
      ]
    },
    {
      "cell_type": "code",
      "execution_count": null,
      "id": "f5bbee34",
      "metadata": {
        "id": "f5bbee34",
        "outputId": "e66b5e77-feed-4795-98cf-d8a3dee7936c"
      },
      "outputs": [],
      "source": [
        "starting_neighbors=2\n",
        "final_neighbors=200\n",
        "step =20\n",
        "\n",
        "min_dist=0.1\n",
        "\n",
        "umap.umap_iterate_neighbors(df, starting_neighbors=starting_neighbors, final_neighbors=final_neighbors, step =step, min_dist=min_dist, metric = 'hamming', show_pts='all', show_graph='y', save_graph=None, save_path=None, project_name=None, iterate_all_pt_types='y')"
      ]
    },
    {
      "cell_type": "markdown",
      "id": "29a39812",
      "metadata": {
        "id": "29a39812"
      },
      "source": [
        "#### Iterate Minimum Distance"
      ]
    },
    {
      "cell_type": "code",
      "execution_count": null,
      "id": "b63158fe",
      "metadata": {
        "id": "b63158fe",
        "outputId": "92eaf31c-e5d8-4cc6-b77c-da049b60bc8d"
      },
      "outputs": [],
      "source": [
        "starting_dist=0\n",
        "final_dist=1\n",
        "step=0.05\n",
        "\n",
        "n_neighbors = 15 \n",
        "\n",
        "umap.umap_iterate_min_dist(df, starting_dist=starting_dist, final_dist=final_dist, step=step, n_neighbors = n_neighbors, metric = 'hamming', show_pts='all', show_graph='y', save_graph='n', save_path=None, project_name=None, iterate_all_pt_types='y')"
      ]
    },
    {
      "cell_type": "markdown",
      "id": "21f8aa87",
      "metadata": {
        "id": "21f8aa87"
      },
      "source": [
        "### Jaccard"
      ]
    },
    {
      "cell_type": "markdown",
      "id": "f1c17179",
      "metadata": {
        "id": "f1c17179"
      },
      "source": []
    },
    {
      "cell_type": "markdown",
      "id": "94e6f530",
      "metadata": {
        "id": "94e6f530"
      },
      "source": [
        "#### Iterate Neighbors"
      ]
    },
    {
      "cell_type": "code",
      "execution_count": null,
      "id": "586d11ed",
      "metadata": {
        "id": "586d11ed",
        "outputId": "7b492662-a917-455c-f75a-b2bf05883a2c"
      },
      "outputs": [],
      "source": [
        "starting_neighbors=2\n",
        "final_neighbors=200\n",
        "step =20\n",
        "\n",
        "min_dist=0.1\n",
        "\n",
        "umap.umap_iterate_neighbors(df, starting_neighbors=starting_neighbors, final_neighbors=final_neighbors, step =step, min_dist=min_dist, metric = 'jaccard', show_pts='all', show_graph='y', save_graph=None, save_path=None, project_name=None, iterate_all_pt_types='y')"
      ]
    },
    {
      "cell_type": "markdown",
      "id": "68f95624",
      "metadata": {
        "id": "68f95624"
      },
      "source": [
        "#### Iterate Minimum Distance"
      ]
    },
    {
      "cell_type": "code",
      "execution_count": null,
      "id": "c040f85d",
      "metadata": {
        "id": "c040f85d",
        "outputId": "a64de7f5-75e7-476b-f152-863ddaa244f9"
      },
      "outputs": [],
      "source": [
        "starting_neighbors=2\n",
        "final_neighbors=200\n",
        "step =20\n",
        "\n",
        "min_dist=0.1\n",
        "\n",
        "umap.umap_iterate_min_dist(df, starting_dist=starting_dist, final_dist=final_dist, step=step, n_neighbors = n_neighbors, metric = 'correlation', show_pts='all', show_graph='y', save_graph='n', save_path=None, project_name=None, iterate_all_pt_types='y')"
      ]
    },
    {
      "cell_type": "markdown",
      "id": "5ee57999",
      "metadata": {
        "id": "5ee57999"
      },
      "source": [
        "### Hellinger"
      ]
    },
    {
      "cell_type": "markdown",
      "id": "46b886d3",
      "metadata": {
        "id": "46b886d3"
      },
      "source": [
        "Note: Cannot take any inputs with negative IG values"
      ]
    },
    {
      "cell_type": "markdown",
      "id": "81006eb2",
      "metadata": {
        "id": "81006eb2"
      },
      "source": [
        "#### Iterate Neighbors"
      ]
    },
    {
      "cell_type": "code",
      "execution_count": null,
      "id": "2ca15708",
      "metadata": {
        "id": "2ca15708"
      },
      "outputs": [],
      "source": [
        "starting_neighbors=2\n",
        "final_neighbors=200\n",
        "step =20\n",
        "\n",
        "min_dist=0.1\n",
        "\n",
        "umap.umap_iterate_neighbors(df, starting_neighbors=starting_neighbors, final_neighbors=final_neighbors, step =step, min_dist=min_dist, metric = 'hellinger', show_pts='all', show_graph='y', save_graph=None, save_path=None, project_name=None, iterate_all_pt_types='y')"
      ]
    },
    {
      "cell_type": "markdown",
      "id": "4c466e43",
      "metadata": {
        "id": "4c466e43"
      },
      "source": [
        "#### Iterate Minimum Distance"
      ]
    },
    {
      "cell_type": "code",
      "execution_count": null,
      "id": "eba248ef",
      "metadata": {
        "id": "eba248ef"
      },
      "outputs": [],
      "source": [
        "starting_neighbors=2\n",
        "final_neighbors=200\n",
        "step =20\n",
        "\n",
        "min_dist=0.1\n",
        "\n",
        "umap.umap_iterate_min_dist(df, starting_dist=starting_dist, final_dist=final_dist, step=step, n_neighbors = n_neighbors, metric = 'hellinger', show_pts='all', show_graph='y', save_graph='n', save_path=None, project_name=None, iterate_all_pt_types='y')"
      ]
    },
    {
      "cell_type": "markdown",
      "id": "8eb48252",
      "metadata": {
        "id": "8eb48252"
      },
      "source": [
        "### Haversine"
      ]
    },
    {
      "cell_type": "markdown",
      "id": "c5c9fb39",
      "metadata": {
        "id": "c5c9fb39"
      },
      "source": [
        "Note: distance metric incompatiible with previous datasets used"
      ]
    },
    {
      "cell_type": "markdown",
      "id": "36f23b43",
      "metadata": {
        "id": "36f23b43"
      },
      "source": [
        "#### Iterate Neighbors"
      ]
    },
    {
      "cell_type": "code",
      "execution_count": null,
      "id": "b2499b80",
      "metadata": {
        "id": "b2499b80",
        "outputId": "1d2cdbe0-7981-4533-cb6d-67644759abce"
      },
      "outputs": [],
      "source": [
        "starting_neighbors=2\n",
        "final_neighbors=200\n",
        "step =20\n",
        "\n",
        "min_dist=0.1\n",
        "\n",
        "umap.umap_iterate_neighbors(df, starting_neighbors=starting_neighbors, final_neighbors=final_neighbors, step =step, min_dist=min_dist, metric = 'haversine', show_pts='all', show_graph='y', save_graph=None, save_path=None, project_name=None, iterate_all_pt_types='y')"
      ]
    },
    {
      "cell_type": "markdown",
      "id": "80e4cf3a",
      "metadata": {
        "id": "80e4cf3a"
      },
      "source": [
        "#### Iterate Minimum Distance"
      ]
    },
    {
      "cell_type": "code",
      "execution_count": null,
      "id": "428b8915",
      "metadata": {
        "id": "428b8915"
      },
      "outputs": [],
      "source": [
        "starting_neighbors=2\n",
        "final_neighbors=200\n",
        "step =20\n",
        "\n",
        "min_dist=0.1\n",
        "\n",
        "umap.umap_iterate_min_dist(df, starting_dist=starting_dist, final_dist=final_dist, step=step, n_neighbors = n_neighbors, metric = 'haversine', show_pts='all', show_graph='y', save_graph='n', save_path=None, project_name=None, iterate_all_pt_types='y')"
      ]
    },
    {
      "cell_type": "markdown",
      "id": "de800ba8",
      "metadata": {
        "id": "de800ba8"
      },
      "source": [
        "### Wasserstein"
      ]
    },
    {
      "cell_type": "markdown",
      "id": "e48e2447",
      "metadata": {
        "id": "e48e2447"
      },
      "source": [
        "Note: metric incompatible with previousl used datasets"
      ]
    },
    {
      "cell_type": "markdown",
      "id": "994046b2",
      "metadata": {
        "id": "994046b2"
      },
      "source": [
        "#### Iterate Neighbors"
      ]
    },
    {
      "cell_type": "code",
      "execution_count": null,
      "id": "584a2ee7",
      "metadata": {
        "id": "584a2ee7",
        "outputId": "0148ae90-6132-4b34-c0f0-c739139508b7"
      },
      "outputs": [],
      "source": [
        "starting_neighbors=2\n",
        "final_neighbors=200\n",
        "step =20\n",
        "\n",
        "min_dist=0.1\n",
        "\n",
        "umap.umap_iterate_neighbors(df, starting_neighbors=starting_neighbors, final_neighbors=final_neighbors, step =step, min_dist=min_dist, metric = 'wasserstein', show_pts='all', show_graph='y', save_graph=None, save_path=None, project_name=None, iterate_all_pt_types='y')"
      ]
    },
    {
      "cell_type": "markdown",
      "id": "13c9e982",
      "metadata": {
        "id": "13c9e982"
      },
      "source": [
        "#### Iterate Minimum Distance"
      ]
    },
    {
      "cell_type": "code",
      "execution_count": null,
      "id": "8992d4f8",
      "metadata": {
        "id": "8992d4f8"
      },
      "outputs": [],
      "source": [
        "starting_neighbors=2\n",
        "final_neighbors=200\n",
        "step =20\n",
        "\n",
        "min_dist=0.1\n",
        "\n",
        "umap.umap_iterate_min_dist(df, starting_dist=starting_dist, final_dist=final_dist, step=step, n_neighbors = n_neighbors, metric = 'wasserstein', show_pts='all', show_graph='y', save_graph='n', save_path=None, project_name=None, iterate_all_pt_types='y')"
      ]
    },
    {
      "cell_type": "markdown",
      "id": "74fb9d7e",
      "metadata": {
        "id": "74fb9d7e"
      },
      "source": [
        "### Mahalanobis"
      ]
    },
    {
      "cell_type": "markdown",
      "id": "0c4b8719",
      "metadata": {
        "id": "0c4b8719"
      },
      "source": [
        "Note: metric incompatible with previously used data"
      ]
    },
    {
      "cell_type": "markdown",
      "id": "2da78235",
      "metadata": {
        "id": "2da78235"
      },
      "source": [
        "#### Iterate Neighbors"
      ]
    },
    {
      "cell_type": "code",
      "execution_count": null,
      "id": "3230cbc1",
      "metadata": {
        "id": "3230cbc1",
        "outputId": "e26571fb-215e-479e-f893-cc063f9f279b"
      },
      "outputs": [],
      "source": [
        "starting_neighbors=2\n",
        "final_neighbors=200\n",
        "step =20\n",
        "\n",
        "min_dist=0.1\n",
        "\n",
        "umap.umap_iterate_neighbors(df, starting_neighbors=starting_neighbors, final_neighbors=final_neighbors, step =step, min_dist=min_dist, metric = 'mahalanobis', show_pts='all', show_graph='y', save_graph=None, save_path=None, project_name=None, iterate_all_pt_types='y')"
      ]
    },
    {
      "cell_type": "markdown",
      "id": "185314dc",
      "metadata": {
        "id": "185314dc"
      },
      "source": [
        "#### Iterate Minimum Distance"
      ]
    },
    {
      "cell_type": "code",
      "execution_count": null,
      "id": "6327c4a3",
      "metadata": {
        "id": "6327c4a3"
      },
      "outputs": [],
      "source": [
        "starting_neighbors=2\n",
        "final_neighbors=200\n",
        "step =20\n",
        "\n",
        "min_dist=0.1\n",
        "\n",
        "umap.umap_iterate_min_dist(df, starting_dist=starting_dist, final_dist=final_dist, step=step, n_neighbors = n_neighbors, metric = 'mahalanobis', show_pts='all', show_graph='y', save_graph='n', save_path=None, project_name=None, iterate_all_pt_types='y')"
      ]
    }
  ],
  "metadata": {
    "colab": {
      "provenance": []
    },
    "kernelspec": {
      "display_name": "base",
      "language": "python",
      "name": "python3"
    },
    "language_info": {
      "codemirror_mode": {
        "name": "ipython",
        "version": 3
      },
      "file_extension": ".py",
      "mimetype": "text/x-python",
      "name": "python",
      "nbconvert_exporter": "python",
      "pygments_lexer": "ipython3",
      "version": "3.11.5"
    }
  },
  "nbformat": 4,
  "nbformat_minor": 5
}
