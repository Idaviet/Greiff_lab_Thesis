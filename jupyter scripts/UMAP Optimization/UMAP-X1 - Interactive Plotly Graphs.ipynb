{
  "cells": [
    {
      "cell_type": "markdown",
      "id": "81115ad5",
      "metadata": {},
      "source": [
        "This script is not essential for the rest of the workflow. Having interactive plotly graphs can sometimesbe useful, therefore this script was created to generate them from a folder of existing UMAP reduction csv files and was therefore included. Simply update the 'Files to Import' section and run all cells to generate all graphs."
      ]
    },
    {
      "cell_type": "markdown",
      "id": "ee559b76",
      "metadata": {
        "id": "ee559b76"
      },
      "source": [
        "## Files to Import"
      ]
    },
    {
      "cell_type": "code",
      "execution_count": null,
      "id": "d230be1e",
      "metadata": {
        "id": "d230be1e"
      },
      "outputs": [],
      "source": [
        "### Substitute variabless for appropriate file locations\n",
        "\n",
        "project_name = 'Mason'\n",
        "# Name of project for file saving purposes\n",
        "\n",
        "save_folder = r'/Users/isaacdaviet/Desktop/graphs/Mason_umap_final_graphs/plotly_graphs'\n",
        "#save folder for graphs and cvs file.\n",
        "\n",
        "umap_reductions_folder = r'/Users/isaacdaviet/Desktop/graphs/Mason_umap_final_graphs/csv_files'\n",
        "# folder containing .csv files of umap reductions from previous step (umap_final_plot_generation.ipynb)\n",
        "\n",
        "selected_graphs_csv = r'/Users/isaacdaviet/Desktop/graphs/UMAP_analysis/mason_umap_final_results.csv'\n",
        "# csv file containing ranges to test/plot. column format: [distance metric, start neighbors, end neighbors, neighbors step, start dist, end dist, dist step]. INCLUDE THESE EXACT COLUMN NAMES"
      ]
    },
    {
      "cell_type": "markdown",
      "id": "a8983b7d",
      "metadata": {},
      "source": [
        "## Setup & Functions"
      ]
    },
    {
      "cell_type": "code",
      "execution_count": null,
      "id": "b14ad246",
      "metadata": {
        "id": "b14ad246"
      },
      "outputs": [],
      "source": [
        "# Imports & Setup\n",
        "import sys\n",
        "sys.path.append('/Users/isaacdaviet/Desktop/thesis/python versions')\n",
        "# replace with directory containing the .py calculation files below\n",
        "import pandas as pd\n",
        "import os\n",
        "import plotly.io as pio\n",
        "import plotly.express as px\n",
        "\n",
        "def plotly_2D_graphs(selected_graphs_csv, save_html='y', show_graphs = 'n', save_folder = None, project_name=None, size = 2, opacity = 0.7,  width=500, height=500):\n",
        "\n",
        "    ### load data frame containing parameters of umap graphs to analyze\n",
        "    selection = pd.read_csv(selected_graphs_csv)\n",
        "    print(selection)\n",
        "\n",
        "    ### extract the information from said data frame\n",
        "    for index, row in selection.iterrows():\n",
        "        id, umap_file, metric, n_components, n_neighbors, min_dist, comp1, comp2, generate = row['graph id'], row['umap file'], row['distance metric'], row['n_components'], row['n_neighbors'], row['min_dist'], row['component_1'], row['component_2'], row['generate']\n",
        "\n",
        "\n",
        "        ### Generate plotly style graph\n",
        "        title = f'{project_name} -- {metric} UMAP -- nComp = {n_components} -- nNeighbors = {n_neighbors} -- Min_Dist = {min_dist} -- Cmps {comp1} & {comp2}'\n",
        "\n",
        "        if generate == 'y' or generate is None:\n",
        "            print(f'Generating plotly of {id}')\n",
        "            umap_path = os.path.join(umap_reductions_folder, umap_file)\n",
        "            df = pd.read_csv(umap_path)\n",
        "            x = f'UMAP-{comp1}'\n",
        "            y = f'UMAP-{comp2}'\n",
        "\n",
        "            fig = px.scatter(\n",
        "                df,\n",
        "                x=x,\n",
        "                y=y,\n",
        "                color='Labels',\n",
        "                title=title,\n",
        "                labels={x: x, y: y},\n",
        "                hover_data=['Labels'],\n",
        "            )\n",
        "            fig.update_traces(marker=dict(size=size, opacity=opacity))\n",
        "\n",
        "            # Update layout\n",
        "            fig.update_layout(\n",
        "                hoverlabel=dict(\n",
        "                    bgcolor=\"white\",\n",
        "                    font_size=16,\n",
        "                    font_family=\"Rockwell\"\n",
        "                )\n",
        "            )\n",
        "\n",
        "            # Update layout\n",
        "            fig.update_layout(\n",
        "                width=width,\n",
        "                height=height,\n",
        "                title=title,\n",
        "                xaxis=dict(title=x),\n",
        "                yaxis=dict(title=y),\n",
        "                hovermode='closest'\n",
        "            )\n",
        "\n",
        "            ### ADD SAVING FUNCTION\n",
        "            if save_html == 'y':\n",
        "                file_name = os.path.join(save_folder, f'{project_name}-FinalSelect_UMAP-{metric}_nC{n_components}_Ne{n_neighbors}_MD{min_dist}_Cmp{comp1}-{comp2}.html')\n",
        "\n",
        "                pio.write_html(fig, file_name)\n",
        "\n",
        "            if show_graphs == 'y':\n",
        "                fig.show()\n"
      ]
    },
    {
      "cell_type": "markdown",
      "id": "606a7059",
      "metadata": {
        "id": "606a7059"
      },
      "source": [
        "## Generate Interactive Plotly Graphs"
      ]
    },
    {
      "cell_type": "code",
      "execution_count": null,
      "id": "33482c20",
      "metadata": {
        "id": "33482c20",
        "outputId": "d09faa85-4776-402d-b337-0b6047c52db9"
      },
      "outputs": [],
      "source": [
        "plotly_2D_graphs(selected_graphs_csv, save_html='y', show_graphs = 'n', save_folder = save_folder, project_name=project_name, \n",
        "                 size = 3, # point size\n",
        "                 opacity = 0.7, #point opacity\n",
        "                 width=1100, \n",
        "                 height=1000)"
      ]
    }
  ],
  "metadata": {
    "colab": {
      "provenance": []
    },
    "kernelspec": {
      "display_name": "base",
      "language": "python",
      "name": "python3"
    },
    "language_info": {
      "codemirror_mode": {
        "name": "ipython",
        "version": 3
      },
      "file_extension": ".py",
      "mimetype": "text/x-python",
      "name": "python",
      "nbconvert_exporter": "python",
      "pygments_lexer": "ipython3",
      "version": "3.11.5"
    }
  },
  "nbformat": 4,
  "nbformat_minor": 5
}
