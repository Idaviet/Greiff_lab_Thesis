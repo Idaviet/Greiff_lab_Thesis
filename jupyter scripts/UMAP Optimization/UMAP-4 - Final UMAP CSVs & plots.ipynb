{
  "cells": [
    {
      "cell_type": "markdown",
      "id": "b44b6261",
      "metadata": {},
      "source": [
        "Script to generate final UMAPs of interest.\n",
        "-1st section: calculates and saves all UMAP reductions of interest in given csv file as well as all the graphs with the components of interest using the starting labeled sequences + IG data as inputs\n",
        "-2nd section: calculates and plots the single specified UMAP using the starting labeled sequences + IG data as inputs\n",
        "-3rd section: calculates and plots the single specified UMAP using a previously calculated UMAP reduction csv file as input\n"
      ]
    },
    {
      "cell_type": "markdown",
      "id": "ee559b76",
      "metadata": {
        "id": "ee559b76"
      },
      "source": [
        "## Files to Import"
      ]
    },
    {
      "cell_type": "code",
      "execution_count": null,
      "id": "d230be1e",
      "metadata": {
        "id": "d230be1e"
      },
      "outputs": [],
      "source": [
        "### importing mason data\n",
        "### Substitute variabless for appropriate file locations\n",
        "\n",
        "project_name = 'Mason'\n",
        "# Name of project for file saving purposes\n",
        "\n",
        "ig_data = r'/Users/isaacdaviet/Desktop/mason_igfold_models/masonIG.npy'\n",
        "# numpy file containing one-hot-encoded intergraded gradients data\n",
        "\n",
        "labeled_seqs= r'/Users/isaacdaviet/Desktop/mason_igfold_models/mason_sequences_label.csv'\n",
        "# csv file containing sequences in column 1 and their status as binder (1)/non all (0) in the second column\n",
        "\n",
        "save_folder = r'/Users/isaacdaviet/Desktop'\n",
        "#save folder for graphs and cvs file."
      ]
    },
    {
      "cell_type": "markdown",
      "id": "41492ae1",
      "metadata": {},
      "source": [
        "## Setup"
      ]
    },
    {
      "cell_type": "code",
      "execution_count": null,
      "id": "b14ad246",
      "metadata": {
        "id": "b14ad246"
      },
      "outputs": [],
      "source": [
        "import sys\n",
        "sys.path.append('/Users/isaacdaviet/Desktop/thesis/python_versions')\n",
        "# replace with directory containing the .py calculation files below\n",
        "import umap_calc as umap\n",
        "import pandas as pd"
      ]
    },
    {
      "cell_type": "markdown",
      "id": "606a7059",
      "metadata": {
        "id": "606a7059"
      },
      "source": [
        "## Selected Parameters CSV UMAP Calculation"
      ]
    },
    {
      "cell_type": "code",
      "execution_count": null,
      "id": "33482c20",
      "metadata": {
        "id": "33482c20"
      },
      "outputs": [],
      "source": [
        "selected_parameters_csv = r'/Users/isaacdaviet/Desktop/graphs/UMAP_analysis/UMAP_final_parameters_test.csv'\n",
        "# csv file containing final parameter of interest to test/plot. column format: [umap_calc, distance metric, n_components, n_neighbors, min_dist, component_1, component_2, component_3]. INCLUDE THESE EXACT COLUMN NAMES\n",
        "\n",
        "points_to_show = ['all_pts', 'binders', 'non_binders']\n",
        "# what points to show on graphs. 'all' shows binders and non binders in same graph, 'binders' show only binders, 'non binders' shows only non binders\n",
        "\n",
        "save_graph = 'n' \n",
        "# Switch toye to save resulting graph in save folder\n",
        "\n",
        "umap.umap_final_plts_csv(ig_data, labeled_seqs, selected_parameters_csv,\n",
        "                         points_to_show = points_to_show,\n",
        "                         plt_size = [60, 20], # final plot size\n",
        "                         pt_size= 4, # point size\n",
        "                         fontsize=64, #title font size\n",
        "                         decimanl_axes = 'n', # 'y' to show decimal point axes, 'n' to not\n",
        "                         save_graph = save_graph, \n",
        "                         save_folder = save_folder,\n",
        "                         project_name=project_name,\n",
        "                         save_3d_graph = 'n') # If 3 components are given, will generate an explorable 3D plotly graph "
      ]
    },
    {
      "cell_type": "markdown",
      "id": "49fc5c91",
      "metadata": {},
      "source": [
        "## Individual UMAP Calculation and Plotting"
      ]
    },
    {
      "cell_type": "markdown",
      "id": "e47f9876",
      "metadata": {},
      "source": [
        "#### From Starting Labeled Sequence + IG Data files"
      ]
    },
    {
      "cell_type": "code",
      "execution_count": null,
      "id": "079ff133",
      "metadata": {
        "id": "079ff133",
        "outputId": "9e24f6a8-4b28-4440-fadc-42466568dbbb"
      },
      "outputs": [],
      "source": [
        "# Reduction Calculation Parameters\n",
        "metric='hamming'\n",
        "n_components=3\n",
        "n_neighbors=25\n",
        "min_dist=0.1\n",
        "\n",
        "# Plotting Parameters\n",
        "plot_graph = 'y' # Set to 'y' to plot graph after UMAP reduction calculated\n",
        "component1=2 # x_axis component\n",
        "component2=3 # y_axis component\n",
        "show_pts='Binder' # filter selection. Select 'all', 'Binder', or 'Non Binder' to display only those points\n",
        "iterate_all_pt_types = 'n' # If set to 'y' and show_pts = 'all', will generate graphs for all points, binders only & non-binder only\n",
        "\n",
        "\n",
        "# CSV Saving parameters\n",
        "save_results_csv = 'n' # Change to 'y' to save reduction as csv\n",
        "csv_save_folder = None\n",
        "csv_file_name = None # include '.csv' file extension\n",
        "\n",
        "show_graph='y' # set to 'y' to show graph in console\n",
        "save_graph=None # set to 'y' to save graphs\n",
        "graph_save_folder = None\n",
        "graph_file_name = None # include .png/.jpeg file extension"
      ]
    },
    {
      "cell_type": "code",
      "execution_count": null,
      "id": "3b9e9ca2",
      "metadata": {},
      "outputs": [],
      "source": [
        "ig_df = umap.flatten_from_files(ig_data, labeled_seqs)\n",
        "\n",
        "ohe_df = ig_df.applymap(lambda x:1 if x!=0 else 0)\n",
        "\n",
        "ohe_df['Labels'] = ohe_df['Labels'].apply(lambda x: 'Binder' if x == 1 else 'Non Binder')\n",
        "\n",
        "ohe_df =ohe_df.drop(columns=['Sequences'])\n",
        "\n",
        "ohe_umap = umap.umap_reduction(ohe_df, n_components=n_components, n_neighbors=n_neighbors, min_dist=min_dist, metric=metric, random_state=42, save_results_csv = save_results_csv, save_folder = csv_save_folder, file_name = csv_file_name)\n",
        "\n",
        "if plot_graph == 'y':\n",
        "    graph_save_path = f\"{graph_save_folder}/{graph_file_name}\" if None not in [graph_save_folder, graph_file_name] else None\n",
        "\n",
        "    umap.plot_umap(ohe_umap, component1=component1, component2=component2, metric=metric, n_neighbors = n_neighbors, min_dist = min_dist, show_pts=show_pts, show_graph=show_graph, save_graph=save_graph, save_path=graph_save_path, project_name=project_name, iterate_all_pt_types = iterate_all_pt_types, close_plot = 'y')"
      ]
    },
    {
      "cell_type": "markdown",
      "id": "83754f89",
      "metadata": {},
      "source": [
        "#### Plot From Previously Calculated UMAP Reduction"
      ]
    },
    {
      "cell_type": "code",
      "execution_count": null,
      "id": "02eeb705",
      "metadata": {
        "id": "02eeb705",
        "outputId": "1df7f671-a3e8-427f-91e1-582236a767f0"
      },
      "outputs": [],
      "source": [
        "reduction_file_path = '/Users/isaacdaviet/Desktop/results/Mason_umap_final_graphs/csv_files/Mason-FinalSelect_UMAP-correlation_nC3_Ne25_MD0.15.csv'\n",
        "# CSV file of previously calculated reduction to be plotted\n",
        "\n",
        "### Parameters of UMAP Reduction for Plot Title\n",
        "# Reduction Calculation Parameters\n",
        "metric='hamming'\n",
        "n_components=3\n",
        "n_neighbors=25\n",
        "min_dist=0.1\n",
        "\n",
        "# Plotting Parameters\n",
        "component1=2 # x_axis component\n",
        "component2=3 # y_axis component\n",
        "show_pts='Binder' # filter selection. Select 'all', 'Binder', or 'Non Binder' to display only those points\n",
        "iterate_all_pt_types = 'n' # If set to 'y' and show_pts = 'all', will generate graphs for all points, binders only & non-binder only\n",
        "\n",
        "show_graph='y' # set to 'y' to show graph in console\n",
        "save_graph=None # set to 'y' to save graphs\n",
        "graph_save_folder = None\n",
        "graph_file_name = None # include .png/.jpeg file extension\n",
        "\n",
        "\n",
        "\n",
        "reduction_df = pd.read_csv(reduction_file_path)\n",
        "\n",
        "ohe_umap['Labels'] = reduction_df['Labels']\n",
        "graph_save_path = f\"{graph_save_folder}/{graph_file_name}\" if None not in [graph_save_folder, graph_file_name] else None\n",
        "\n",
        "umap.plot_umap(ohe_umap, component1=component1, component2=component2, metric=metric, n_neighbors = n_neighbors, min_dist = min_dist, show_pts=show_pts, show_graph=show_graph, save_graph=save_graph, save_path=graph_save_path, project_name=project_name, iterate_all_pt_types = iterate_all_pt_types, close_plot = 'y')"
      ]
    }
  ],
  "metadata": {
    "colab": {
      "provenance": []
    },
    "kernelspec": {
      "display_name": "base",
      "language": "python",
      "name": "python3"
    },
    "language_info": {
      "codemirror_mode": {
        "name": "ipython",
        "version": 3
      },
      "file_extension": ".py",
      "mimetype": "text/x-python",
      "name": "python",
      "nbconvert_exporter": "python",
      "pygments_lexer": "ipython3",
      "version": "3.11.5"
    }
  },
  "nbformat": 4,
  "nbformat_minor": 5
}
