{
  "cells": [
    {
      "cell_type": "markdown",
      "id": "8155eb76",
      "metadata": {},
      "source": [
        "Script for comparing point distributions of different UMAP components using pairplots. Paiplot generated allows for the comparison of each component against all othe components selected. Requires same labeled sequences and IG data files from previous scripts + an additional csv file containing the selected parameters to test"
      ]
    },
    {
      "cell_type": "markdown",
      "id": "93b81dca",
      "metadata": {},
      "source": [
        "## Setup"
      ]
    },
    {
      "cell_type": "code",
      "execution_count": null,
      "id": "b14ad246",
      "metadata": {
        "id": "b14ad246"
      },
      "outputs": [],
      "source": [
        "# Imports & Setup\n",
        "# Example of adding a directory to the Python path\n",
        "import sys\n",
        "sys.path.append('/Users/isaacdaviet/Desktop/thesis/python versions')\n",
        "import umap_calc as umap"
      ]
    },
    {
      "cell_type": "markdown",
      "id": "ee559b76",
      "metadata": {
        "id": "ee559b76"
      },
      "source": [
        "## Files to Import"
      ]
    },
    {
      "cell_type": "code",
      "execution_count": null,
      "id": "d230be1e",
      "metadata": {
        "id": "d230be1e"
      },
      "outputs": [],
      "source": [
        "### importing mason data\n",
        "### Substitute variabless for appropriate file locations\n",
        "\n",
        "project_name = 'Mason'\n",
        "# Name of project for file saving purposes\n",
        "\n",
        "ig_data = r'/Users/isaacdaviet/Desktop/mason_igfold_models/masonIG.npy'\n",
        "# numpy file containing one-hot-encoded intergraded gradients data\n",
        "\n",
        "labeled_seqs= r'/Users/isaacdaviet/Desktop/mason_igfold_models/mason_sequences_label.csv'\n",
        "# csv file containing sequences in column 1 and their status as binder (1)/non all (0) in the second column\n",
        "\n",
        "save_folder = r'/Users/isaacdaviet/Desktop/graphs'\n",
        "#save folder for graphs and cvs file."
      ]
    },
    {
      "cell_type": "markdown",
      "id": "606a7059",
      "metadata": {
        "id": "606a7059"
      },
      "source": [
        "# Focused UMAP optimzation"
      ]
    },
    {
      "cell_type": "code",
      "execution_count": null,
      "id": "33482c20",
      "metadata": {
        "id": "33482c20"
      },
      "outputs": [],
      "source": [
        "selected_parameters_csv = r'/Users/isaacdaviet/Desktop/graphs/UMAP_analysis/UMAP_selected_parameters_MD0.csv'\n",
        "# csv file containing ranges to test/plot. column format: [MISSING!!!]. INCLUDE THESE EXACT COLUMN NAMES\n",
        "###CHANGE: MISSING COLUMN NAMES\n",
        "\n",
        "points_to_show = ['all_pts', 'binders']\n",
        "# what points to show on graphs. 'all' shows binders and non binders in same graph, 'binders' show only binders, 'non binders' shows only non binders\n",
        "\n",
        "# save_umap_results_as_csv_file = 'y'\n",
        "# saves umap calculation results as a .csv files. Recommend so as to not have to repeat all the calculations, which can take several hours.\n",
        "\n",
        "results = umap.umap_optimized_pair_plts_csv(ig_data, labeled_seqs, save_folder, selected_parameters_csv, n_components = 5, points_to_show = points_to_show, project_name = project_name)"
      ]
    }
  ],
  "metadata": {
    "colab": {
      "provenance": []
    },
    "kernelspec": {
      "display_name": "base",
      "language": "python",
      "name": "python3"
    },
    "language_info": {
      "codemirror_mode": {
        "name": "ipython",
        "version": 3
      },
      "file_extension": ".py",
      "mimetype": "text/x-python",
      "name": "python",
      "nbconvert_exporter": "python",
      "pygments_lexer": "ipython3",
      "version": "3.11.5"
    }
  },
  "nbformat": 4,
  "nbformat_minor": 5
}
