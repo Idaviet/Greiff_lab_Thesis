{
  "cells": [
    {
      "cell_type": "markdown",
      "id": "97a4d81d",
      "metadata": {},
      "source": [
        "## File to Import"
      ]
    },
    {
      "cell_type": "code",
      "execution_count": null,
      "id": "23438f30",
      "metadata": {},
      "outputs": [],
      "source": [
        "project_name = 'mason'\n",
        "# for file name/title purposes \n",
        "\n",
        "ig_data =r\"/Users/isaacdaviet/Desktop/mason_igfold_models/masonIG.npy\"\n",
        "# .npy file containing integrated gradients data \n",
        "\n",
        "labeled_seq_data_file = r\"/Users/isaacdaviet/Desktop/mason_igfold_models/mason_sequences_label.csv\"\n",
        "# .csv containing sequences with binder labels"
      ]
    },
    {
      "cell_type": "markdown",
      "id": "ee559b76",
      "metadata": {
        "id": "ee559b76"
      },
      "source": [
        "## Setup"
      ]
    },
    {
      "cell_type": "code",
      "execution_count": null,
      "id": "b14ad246",
      "metadata": {
        "id": "b14ad246"
      },
      "outputs": [],
      "source": [
        "import sys\n",
        "sys.path.append(r'/Users/isaacdaviet/Desktop/thesis/python_versions')\n",
        "# replace with directory containing the .py calculation files below\n",
        "import pca_calc as pca\n",
        "from umap_calc import flatten_from_files\n",
        "import numpy as np\n",
        "import pandas as pd\n",
        "import matplotlib.pyplot as plt\n",
        "\n",
        "\n",
        "\n",
        "labeled_seq_data = pd.read_csv(labeled_seq_data_file)\n",
        "\n",
        "pt = np.load(ig_data) #load Ig data\n",
        "\n",
        "labels = labeled_seq_data.iloc[:,1].to_numpy()\n",
        "labels = np.array(labels)\n",
        "\n",
        "sequ = labeled_seq_data.iloc[:,0].to_numpy()\n",
        "sequ = np.array(sequ)\n",
        "\n",
        "labeled_df = flatten_from_files(ig_data, labeled_seq_data_file)\n",
        "\n",
        "binders_df = labeled_df[labeled_df['Labels'] == 'Binder']\n",
        "\n",
        "nonbinders_df = labeled_df[labeled_df['Labels'] == 'Non Binder']\n",
        "all_dfs = [labeled_df, binders_df, nonbinders_df]\n",
        "\n",
        "# print(labeled_df.head())"
      ]
    },
    {
      "cell_type": "markdown",
      "id": "d8021eb8",
      "metadata": {
        "id": "d8021eb8"
      },
      "source": [
        "## Explained Variance Analysis"
      ]
    },
    {
      "cell_type": "markdown",
      "id": "83b991d5",
      "metadata": {},
      "source": [
        "Generate bar plot containing explained variance of both binder and non binders. Previous work explored up to an explained variance of 99%, which was acheived with 95 principal components. First cell chunk will generate bar plots based on given range and steps. If would like to generate a single ba plot at a given number, see next chunk"
      ]
    },
    {
      "cell_type": "code",
      "execution_count": null,
      "id": "cf7ee8f2",
      "metadata": {
        "id": "cf7ee8f2"
      },
      "outputs": [],
      "source": [
        "### Range step exploration\n",
        "range_to_explore = [5,100]\n",
        "step = 10\n",
        "\n",
        "show_graphs ='y'\n",
        "save_graph = 'n'\n",
        "save_path = '/Users/isaacdaviet/Desktop/results/PCA_analysis' # save folder only, file name will be automatically generated\n",
        "\n",
        "### run code below\n",
        "n = range_to_explore[0]\n",
        "while n <= range_to_explore[1]:\n",
        "    if show_graphs != 'n':\n",
        "        print(f'# of components = {n}')\n",
        "    pca.pca_explained_variance_bar_plot(pt, n_components = n, show_graph = show_graphs, save_graph = save_graph, save_path = save_path, project_name = project_name)\n",
        "    if show_graphs != 'n':\n",
        "        print('\\n\\n')\n",
        "    n += step"
      ]
    },
    {
      "cell_type": "code",
      "execution_count": null,
      "id": "5edb4324",
      "metadata": {},
      "outputs": [],
      "source": [
        "### Direct PC Bar Plot generator\n",
        "n_components = 95\n",
        "\n",
        "show_graphs ='y'\n",
        "save_graph = 'n'\n",
        "save_path = '/Users/isaacdaviet/Desktop/results/PCA_analysis' # save folder only, file name will be automatically generated\n",
        "\n",
        "pca.pca_explained_variance_bar_plot(pt, n_components = n_components, show_graph = show_graphs, save_graph = save_graph, save_path = save_path, project_name = project_name)\n"
      ]
    },
    {
      "cell_type": "markdown",
      "id": "9757f1b5",
      "metadata": {
        "id": "9757f1b5"
      },
      "source": [
        "## Calculating PCA dataframe for Selected n_PCs"
      ]
    },
    {
      "cell_type": "markdown",
      "id": "bf6fc65a",
      "metadata": {
        "id": "bf6fc65a"
      },
      "source": [
        "Calculates and saves PCA dataframe as csv file for given number of components + final explained variance barplot + pairplot of all components against each other for comparison and final component selection\n",
        "\n",
        "CAUTION: Depending on the range being explored, it is recommended to run this section, especially the pairplot function, in a server as the generation of large pairplots can be computationally expensive and take quite a while."
      ]
    },
    {
      "cell_type": "code",
      "execution_count": null,
      "id": "b3bb0cbf",
      "metadata": {
        "id": "b3bb0cbf",
        "outputId": "27098bf0-cc5e-4905-d609-aef2053f02af"
      },
      "outputs": [],
      "source": [
        "#### change variables below\n",
        "pcs_to_explore = 95\n",
        "\n",
        "save_csv_filepath = r'/Users/isaacdaviet/Desktop/results/PCA_analysis'\n",
        "\n",
        "save_pair_plot = 'y'\n",
        "\n",
        "\n",
        "\n",
        "\n",
        "### run code below\n",
        "pca_binders = pca.compute_pca(pcs_to_explore)\n",
        "pca_tdf_binders = pca_binders.fit_transform(binders_df.iloc[:,:-2].values)\n",
        "\n",
        "pca_nonbinders = pca.compute_pca(pcs_to_explore)\n",
        "pca_tdf_nonbinders = pca_nonbinders.fit_transform(nonbinders_df.iloc[:,:-2].values)\n",
        "\n",
        "\n",
        "# Plot explained variance for binders\n",
        "plt.figure(figsize=(10, 6))\n",
        "plt.bar(range(1, pcs_to_explore + 1), pca_binders.explained_variance_ratio_, color='red', alpha=0.7, label='Binders')\n",
        "\n",
        "# Plot explained variance for non-binders\n",
        "plt.bar(range(1, pcs_to_explore + 1), pca_nonbinders.explained_variance_ratio_, color='blue', alpha=0.7, label='Non Binders')\n",
        "\n",
        "plt.xlabel('Principal Components')\n",
        "plt.ylabel('Explained Variance (%)')\n",
        "plt.title('Explained Variance Comparison between Binders and Non Binders')\n",
        "plt.legend()\n",
        "plt.show()\n",
        "plt.savefig(f'/Users/isaacdaviet/Desktop/results/PCA_analysis/{project_name}_ExpVar_{pcs_to_explore}PCs.png', dpi=300)\n",
        "\n",
        "\n",
        "pca_df = pca.pca_df(pt, labels, sequ, pcs_to_explore, save_csv_filepath = save_csv_filepath, project = project_name)\n",
        "\n",
        "pca.pca_pair_plot(pt, labels, pcs_to_explore, show_pts='all', show_graph='y', save_graph=None, save_path=None, project_name=None, iterate_all_pt_types='y')\n",
        "\n",
        "### saved image, shows that the variance of the binders is substantially higher at the first 7 PCs, while non_binder variance is substantially higher from PC 8-60"
      ]
    },
    {
      "cell_type": "markdown",
      "id": "e4593293",
      "metadata": {
        "id": "e4593293"
      },
      "source": [
        "## Generate Plotly's for PC's of interest"
      ]
    },
    {
      "cell_type": "markdown",
      "id": "31d0e806",
      "metadata": {},
      "source": [
        "Past work has only performed manual cluster extractions (compared to an automated option with UMAP), therefore this section generates the resulting PCA graphs as interactive 2D plotly graphs, which make identification of regions of interest far simpler."
      ]
    },
    {
      "cell_type": "code",
      "execution_count": null,
      "id": "59b76003",
      "metadata": {
        "id": "59b76003"
      },
      "outputs": [],
      "source": [
        "ranges_of_interest = [[1, 11], [23, 29]] # longer stretches components that have interesting point distributions. Generates plotly's for every combination possible within the ranges.\n",
        "individual_pcas_of_interest = [[35, 38], [52, 53]] # individual component pairs of interest not covered by 'range_of_interests'\n",
        "\n",
        "save_folder = r'/Users/isaacdaviet/Desktop/results/PCA_analysis/PCAs_of_interest'\n",
        "\n",
        "pca.selected_2d_plotlys(pca_df, ranges_of_interest, individual_pcas_of_interest, save_path = save_folder, project = project_name)"
      ]
    },
    {
      "cell_type": "markdown",
      "id": "10796283",
      "metadata": {
        "id": "10796283"
      },
      "source": [
        "## Manual cluster extraction"
      ]
    },
    {
      "cell_type": "markdown",
      "id": "0e7755c7",
      "metadata": {},
      "source": [
        "Extract all sequences contained within a set of vertices contained in a csv file\n",
        "MISSING: STRUCTURE OF CSV FILE + ORDER OF VERTICES (BOTTOM LEFT, TOP LEFT, TOP RIGHT, BOTTOM RIGHT???)"
      ]
    },
    {
      "cell_type": "code",
      "execution_count": null,
      "id": "6b07ac98",
      "metadata": {
        "id": "6b07ac98"
      },
      "outputs": [],
      "source": [
        "manual_clusters_csv = r'/Users/isaacdaviet/Desktop/results/PCA_analysis/PCAs_of_interest/mason_PCA_manual_cluster_vectors_NB_NEW.csv'\n",
        "\n",
        "pca_df_csv = r'/Users/isaacdaviet/Desktop/results/PCA_analysis/mason-PCAdf95.csv'\n",
        "\n",
        "# import importlib\n",
        "# importlib.reload(pca)\n",
        "\n",
        "\n",
        "manual_clusters_df = pd.read_csv(manual_clusters_csv)\n",
        "pca_df = pd.read_csv(pca_df_csv)\n",
        "\n",
        "binders_igfold_filename_format = r'mHER_H3_AgPos_unique_fv_ISEQ_igfold.pdb'\n",
        "nonbinders_igfold_filename_format = r'mHER_H3_AgNeg_unique_fv_ISEQ_igfold.pdb'\n",
        "replace = 'ISEQ'\n",
        "filepath = r'/Users/isaacdaviet/Desktop/results/PCA_analysis/PCAs_of_interest'\n",
        "\n",
        "\n",
        "clusters_by_filename_df, clusters_by_sequence = pca.extract_manual_pca_clusters_for_space2(manual_clusters_df, pca_df, filepath, binders_igfold_filename_format, nonbinders_igfold_filename_format, replace = replace, check_clusters = 'y')\n",
        "\n",
        "# clusters_by_sequence.values()"
      ]
    }
  ],
  "metadata": {
    "colab": {
      "provenance": []
    },
    "kernelspec": {
      "display_name": "base",
      "language": "python",
      "name": "python3"
    },
    "language_info": {
      "codemirror_mode": {
        "name": "ipython",
        "version": 3
      },
      "file_extension": ".py",
      "mimetype": "text/x-python",
      "name": "python",
      "nbconvert_exporter": "python",
      "pygments_lexer": "ipython3",
      "version": "3.11.5"
    }
  },
  "nbformat": 4,
  "nbformat_minor": 5
}
